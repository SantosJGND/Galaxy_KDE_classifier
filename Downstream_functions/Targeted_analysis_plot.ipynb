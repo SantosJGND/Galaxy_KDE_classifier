{
 "cells": [
  {
   "cell_type": "code",
   "execution_count": 1,
   "metadata": {},
   "outputs": [
    {
     "data": {
      "text/html": [
       "<script type=\"text/javascript\">window.PlotlyConfig = {MathJaxConfig: 'local'};</script><script type=\"text/javascript\">if (window.MathJax) {MathJax.Hub.Config({SVG: {font: \"STIX-Web\"}});}</script><script>requirejs.config({paths: { 'plotly': ['https://cdn.plot.ly/plotly-latest.min']},});if(!window._Plotly) {require(['plotly'],function(plotly) {window._Plotly=plotly;});}</script>"
      ],
      "text/vnd.plotly.v1+html": [
       "<script type=\"text/javascript\">window.PlotlyConfig = {MathJaxConfig: 'local'};</script><script type=\"text/javascript\">if (window.MathJax) {MathJax.Hub.Config({SVG: {font: \"STIX-Web\"}});}</script><script>requirejs.config({paths: { 'plotly': ['https://cdn.plot.ly/plotly-latest.min']},});if(!window._Plotly) {require(['plotly'],function(plotly) {window._Plotly=plotly;});}</script>"
      ]
     },
     "metadata": {},
     "output_type": "display_data"
    }
   ],
   "source": [
    "import plotly.graph_objs as go\n",
    "from plotly.offline import download_plotlyjs, init_notebook_mode, plot, iplot\n",
    "import plotly.figure_factory as ff\n",
    "\n",
    "import numpy as np\n",
    "import pandas as pd\n",
    "import sys\n",
    "import base64\n",
    "import os\n",
    "\n",
    "from ipywidgets import interact, interactive, fixed, interact_manual\n",
    "import ipywidgets as widgets\n",
    "init_notebook_mode(connected=True)\n",
    "\n",
    "\n",
    "import matplotlib\n",
    "matplotlib.use('Agg')\n",
    "\n",
    "%matplotlib inline\n",
    "from matplotlib import pyplot as plt\n",
    "from matplotlib.collections import BrokenBarHCollection\n",
    "import pandas as pd\n"
   ]
  },
  {
   "cell_type": "markdown",
   "metadata": {},
   "source": [
    "### Targeted analysis of cluster assignment: Output\n",
    "\n",
    "This jupyter notebook is to accompany the output of the script `targeted_analysis.py`. \n",
    "\n",
    "The script `targeted_analysis.py` uses the supervised classification of samples across data sets to guide the selection\n",
    "of *p*-value vectors extracted from the same data. Each vector corresponds to a single cluster identified using the mean shift algorithm. Following the query MS vectors are reduced through principal component analysis (PCA) and grouped using Kmeans (K = 10).\n",
    "\n",
    "\n",
    "#### I. Read data\n",
    "\n",
    "The identity of the query is stored in the name of the data sets generated as part of the output of `targeted_analysis.py`:\n",
    "\n",
    "- an integer inside two underscors (e.g. `_1_`). This represents the supervised classification targeted. it corresponds to the variable `ref`below.\n",
    "\n",
    "- `CHR.` **integer** `.` **text** `.txt`. here, the **integer** refers to the chromome analysed (the last one if more than one was requested), the **text** is the analysis' ID. The two correspond to the variables `Where` and `ID` respectively.\n",
    "\n",
    "Adjust the variables below to the information on the input files before running the next block.\n"
   ]
  },
  {
   "cell_type": "code",
   "execution_count": 2,
   "metadata": {
    "scrolled": false
   },
   "outputs": [
    {
     "name": "stdout",
     "output_type": "stream",
     "text": [
      "C:\\Users\\jgarcia\\Desktop\\Rice\\Write\\Manuscript_dissect\\Apps\\Association\\Analyses_Japonica_self_KDE\n",
      "[0.12436831365777298, 0.07447385650122833, 0.037010211440884705, 0.027135114816972224, 0.021734850219090395]\n",
      "number of clusters: 10\n",
      "   chrom     start       end  cluster  \\\n",
      "0     10   5447956   5453501        5   \n",
      "1      9  11269166  11270746        4   \n",
      "2      1  23844977  23849702        0   \n",
      "3      7  13481750  13484054        2   \n",
      "4      4  11433870  11450222        2   \n",
      "\n",
      "                                             members  label  \n",
      "0         9.16.34.53.100.124.126.213.214.219.240.248      0  \n",
      "1  6.7.12.16.17.18.20.23.27.30.36.37.41.43.47.54....      6  \n",
      "2  44.47.49.51.57.59.63.64.67.68.70.71.75.76.77.8...      8  \n",
      "3  10.14.23.29.35.38.39.40.42.44.69.71.72.73.78.8...      9  \n",
      "4  0.1.2.3.4.5.6.8.9.10.13.14.15.16.17.18.19.20.2...      3  \n",
      "10000\n",
      "   Unnamed: 0     ID                    NAME      COUNTRY REGION  sNMF_K3  \\\n",
      "0           0   CX59  MILAGROSA,_ZAWA_BANDAY  Philippines    As5        4   \n",
      "1           1   CX65                 DOMSIAH         Iran    As1        4   \n",
      "2           2   CX67                   BINAM         Iran    As1        4   \n",
      "3           3  CX104            SADRI_RICE_1         Iran    As1        4   \n",
      "4           4  CX143                  KHASAR         Iran    As1        4   \n",
      "\n",
      "   Jap_K4 K9_cluster Initial_subpop  genoIndex  code label  \n",
      "0       1   cB_(Bas)            aro        296     4   aro  \n",
      "1       1   cB_(Bas)            aro        301     4   aro  \n",
      "2       1   cB_(Bas)            aro        303     4   aro  \n",
      "3       1   cB_(Bas)            aro        338     4   aro  \n",
      "4       1   cB_(Bas)            aro        372     4   aro  \n"
     ]
    }
   ],
   "source": [
    "ID= 'Japonica_self_KDE'\n",
    "Where = '12'\n",
    "ref= '3'\n",
    "Home= ''\n",
    "\n",
    "cwd = os.getcwd()\n",
    "print(cwd)\n",
    "\n",
    "chromosome_sizes = {\n",
    "    1: 43241123,\n",
    "    2: 35925311,\n",
    "    3: 36399800,\n",
    "    4: 35498544,\n",
    "    5: 29906830,\n",
    "    6: 31207206,\n",
    "    7: 29661716,\n",
    "    8: 28418058,\n",
    "    9: 22933762,\n",
    "    10: 23189644,\n",
    "    11: 28998832,\n",
    "    12: 27523550\n",
    "}\n",
    "\n",
    "color_ref= ['red','yellow','blue','gap','green','purple','purple','green','deepskyblue2','red3','darkolivegreen1','navy','chartreuse','darkorchid3','goldenrod2']\n",
    "\n",
    "\n",
    "df = pd.read_csv(Home + 'DIM_private_'+ ref +'_request_CHR'+ Where +'.'+ID+'.txt',sep= '\\t',header= None)\n",
    "\n",
    "cluster_pca = pd.read_csv(Home + 'DIM_private_'+ref+'_comp_CHR'+Where+'.'+ID+'.txt',sep= '\\t')\n",
    "\n",
    "pca_var= cluster_pca.columns[1:-1]\n",
    "pca_var= [float(x) for x in pca_var]\n",
    "print(pca_var)\n",
    "cluster_pca.columns = ['label','pc1','pc2','pc3','pc4','pc5','Na']\n",
    "\n",
    "print('number of clusters: {}'.format(len(cluster_pca.label.unique())))\n",
    "\n",
    "orderCore= pd.read_csv(Home + 'Order_core.txt',sep= '\\t')\n",
    "Gene_fit = pd.read_csv(Home + 'MSU7_blockMerge.txt',sep= '\\t')\n",
    "\n",
    "vectors = pd.read_csv(Home + \"Profile_\"+ref+\"_CHR\"+Where+\".\"+ID+\".txt\",sep= '\\t')\n",
    "\n",
    "Coordinates= pd.read_csv(Home + 'Profile_coordinates_' + ref + '_CHR'+Where+\".\"+ID+\".txt\",sep= '\\t')\n",
    "\n",
    "print(Coordinates.head())\n",
    "\n",
    "print(len(Coordinates))\n",
    "\n",
    "print(orderCore.head())\n",
    "#print(pca_var)\n",
    "#Average_size= Coordinates.end - Coordinates.start\n",
    "#print(np.mean(Average_size))"
   ]
  },
  {
   "cell_type": "code",
   "execution_count": 3,
   "metadata": {},
   "outputs": [
    {
     "data": {
      "text/html": [
       "<div>\n",
       "<style scoped>\n",
       "    .dataframe tbody tr th:only-of-type {\n",
       "        vertical-align: middle;\n",
       "    }\n",
       "\n",
       "    .dataframe tbody tr th {\n",
       "        vertical-align: top;\n",
       "    }\n",
       "\n",
       "    .dataframe thead th {\n",
       "        text-align: right;\n",
       "    }\n",
       "</style>\n",
       "<table border=\"1\" class=\"dataframe\">\n",
       "  <thead>\n",
       "    <tr style=\"text-align: right;\">\n",
       "      <th></th>\n",
       "      <th>chrom</th>\n",
       "      <th>start</th>\n",
       "      <th>end</th>\n",
       "      <th>cluster</th>\n",
       "      <th>members</th>\n",
       "      <th>label</th>\n",
       "    </tr>\n",
       "  </thead>\n",
       "  <tbody>\n",
       "    <tr>\n",
       "      <th>0</th>\n",
       "      <td>10</td>\n",
       "      <td>5447956</td>\n",
       "      <td>5453501</td>\n",
       "      <td>5</td>\n",
       "      <td>9.16.34.53.100.124.126.213.214.219.240.248</td>\n",
       "      <td>0</td>\n",
       "    </tr>\n",
       "    <tr>\n",
       "      <th>1</th>\n",
       "      <td>9</td>\n",
       "      <td>11269166</td>\n",
       "      <td>11270746</td>\n",
       "      <td>4</td>\n",
       "      <td>6.7.12.16.17.18.20.23.27.30.36.37.41.43.47.54....</td>\n",
       "      <td>6</td>\n",
       "    </tr>\n",
       "    <tr>\n",
       "      <th>2</th>\n",
       "      <td>1</td>\n",
       "      <td>23844977</td>\n",
       "      <td>23849702</td>\n",
       "      <td>0</td>\n",
       "      <td>44.47.49.51.57.59.63.64.67.68.70.71.75.76.77.8...</td>\n",
       "      <td>8</td>\n",
       "    </tr>\n",
       "    <tr>\n",
       "      <th>3</th>\n",
       "      <td>7</td>\n",
       "      <td>13481750</td>\n",
       "      <td>13484054</td>\n",
       "      <td>2</td>\n",
       "      <td>10.14.23.29.35.38.39.40.42.44.69.71.72.73.78.8...</td>\n",
       "      <td>9</td>\n",
       "    </tr>\n",
       "    <tr>\n",
       "      <th>4</th>\n",
       "      <td>4</td>\n",
       "      <td>11433870</td>\n",
       "      <td>11450222</td>\n",
       "      <td>2</td>\n",
       "      <td>0.1.2.3.4.5.6.8.9.10.13.14.15.16.17.18.19.20.2...</td>\n",
       "      <td>3</td>\n",
       "    </tr>\n",
       "  </tbody>\n",
       "</table>\n",
       "</div>"
      ],
      "text/plain": [
       "   chrom     start       end  cluster  \\\n",
       "0     10   5447956   5453501        5   \n",
       "1      9  11269166  11270746        4   \n",
       "2      1  23844977  23849702        0   \n",
       "3      7  13481750  13484054        2   \n",
       "4      4  11433870  11450222        2   \n",
       "\n",
       "                                             members  label  \n",
       "0         9.16.34.53.100.124.126.213.214.219.240.248      0  \n",
       "1  6.7.12.16.17.18.20.23.27.30.36.37.41.43.47.54....      6  \n",
       "2  44.47.49.51.57.59.63.64.67.68.70.71.75.76.77.8...      8  \n",
       "3  10.14.23.29.35.38.39.40.42.44.69.71.72.73.78.8...      9  \n",
       "4  0.1.2.3.4.5.6.8.9.10.13.14.15.16.17.18.19.20.2...      3  "
      ]
     },
     "execution_count": 3,
     "metadata": {},
     "output_type": "execute_result"
    }
   ],
   "source": [
    "Coordinates.head()"
   ]
  },
  {
   "cell_type": "markdown",
   "metadata": {},
   "source": [
    "#### II. Size of groups of MS vectors identified through Kmeans - Barplot\n",
    "\n",
    "litteraly what the title says.\n",
    "\n",
    "toggle color of group of interest."
   ]
  },
  {
   "cell_type": "code",
   "execution_count": 4,
   "metadata": {
    "scrolled": false
   },
   "outputs": [
    {
     "data": {
      "application/vnd.jupyter.widget-view+json": {
       "model_id": "f82ec22092d641fbb1d79a01ee194631",
       "version_major": 2,
       "version_minor": 0
      },
      "text/html": [
       "<p>Failed to display Jupyter Widget of type <code>interactive</code>.</p>\n",
       "<p>\n",
       "  If you're reading this message in the Jupyter Notebook or JupyterLab Notebook, it may mean\n",
       "  that the widgets JavaScript is still loading. If this message persists, it\n",
       "  likely means that the widgets JavaScript library is either not installed or\n",
       "  not enabled. See the <a href=\"https://ipywidgets.readthedocs.io/en/stable/user_install.html\">Jupyter\n",
       "  Widgets Documentation</a> for setup instructions.\n",
       "</p>\n",
       "<p>\n",
       "  If you're reading this message in another frontend (for example, a static\n",
       "  rendering on GitHub or <a href=\"https://nbviewer.jupyter.org/\">NBViewer</a>),\n",
       "  it may mean that your frontend doesn't currently support widgets.\n",
       "</p>\n"
      ],
      "text/plain": [
       "interactive(children=(Dropdown(description='selected', options=(0, 1, 2, 3, 4, 5, 6, 7, 8, 9, 10), value=0), Output()), _dom_classes=('widget-interact',))"
      ]
     },
     "metadata": {},
     "output_type": "display_data"
    },
    {
     "data": {
      "text/plain": [
       "<function targeted_plot_tools.paint_bars>"
      ]
     },
     "execution_count": 4,
     "metadata": {},
     "output_type": "execute_result"
    }
   ],
   "source": [
    "### Cluster proportions\n",
    "\n",
    "from targeted_plot_tools import paint_bars\n",
    "\n",
    "\n",
    "interact(paint_bars,selected= [x for x in range(len(cluster_pca.label.unique())+1)],cluster_pca= fixed(cluster_pca))"
   ]
  },
  {
   "cell_type": "markdown",
   "metadata": {},
   "source": [
    "#### III. PCA of MS vectors.\n",
    "\n",
    "Principal component analysis of MS vectors. Control axes of 2D representation and select kmeans group to highlight.\n"
   ]
  },
  {
   "cell_type": "code",
   "execution_count": 5,
   "metadata": {
    "scrolled": false
   },
   "outputs": [
    {
     "data": {
      "application/vnd.jupyter.widget-view+json": {
       "model_id": "ec3a944c5ac444ac8efa6a7670122ee4",
       "version_major": 2,
       "version_minor": 0
      },
      "text/html": [
       "<p>Failed to display Jupyter Widget of type <code>interactive</code>.</p>\n",
       "<p>\n",
       "  If you're reading this message in the Jupyter Notebook or JupyterLab Notebook, it may mean\n",
       "  that the widgets JavaScript is still loading. If this message persists, it\n",
       "  likely means that the widgets JavaScript library is either not installed or\n",
       "  not enabled. See the <a href=\"https://ipywidgets.readthedocs.io/en/stable/user_install.html\">Jupyter\n",
       "  Widgets Documentation</a> for setup instructions.\n",
       "</p>\n",
       "<p>\n",
       "  If you're reading this message in another frontend (for example, a static\n",
       "  rendering on GitHub or <a href=\"https://nbviewer.jupyter.org/\">NBViewer</a>),\n",
       "  it may mean that your frontend doesn't currently support widgets.\n",
       "</p>\n"
      ],
      "text/plain": [
       "interactive(children=(Dropdown(description='selected', options=(0, 1, 2, 3, 4, 5, 6, 7, 8, 9, 10), value=0), Dropdown(description='pc1', options=(1, 2, 3, 4, 5), value=1), Dropdown(description='pc2', options=(2, 3, 4, 5, 6), value=2), Output()), _dom_classes=('widget-interact',))"
      ]
     },
     "metadata": {},
     "output_type": "display_data"
    },
    {
     "data": {
      "text/plain": [
       "<function targeted_plot_tools.plot_clusters>"
      ]
     },
     "execution_count": 5,
     "metadata": {},
     "output_type": "execute_result"
    }
   ],
   "source": [
    "### plot clusters:\n",
    "\n",
    "from targeted_plot_tools import plot_clusters\n",
    "\n",
    "interact(plot_clusters,selected= [x for x in range(len(cluster_pca.label.unique())+1)],\n",
    "         pc1= list(range(1,cluster_pca.shape[1]-1)),\n",
    "        pc2= list(range(2,cluster_pca.shape[1])),\n",
    "        cluster_pca= fixed(cluster_pca),\n",
    "        pca_var= fixed(pca_var))"
   ]
  },
  {
   "cell_type": "markdown",
   "metadata": {},
   "source": [
    "#### IV. Principal component of transposed matrix of MS vectors.\n",
    "\n",
    "Population genetic structure from MS cluster membership.\n",
    "\n",
    "Negative codes correspond to global information on the accessions:\n",
    "\n",
    "- `-2` country of origin. Control which countries to allow in the list `allow_geo` below.\n",
    "\n",
    "- `-1` Substructure by Wang et al. (2018). Use `allow_sbgp`to control which to view.\n",
    "\n",
    "- `0` sNMF classification of 3K RG at K= 4: Indica, Aus, Japonica, cBas groups plus admx.\n",
    "\n",
    "Positive integers (1-10) correspond to individual *p*-values averaged across MS vectors across the corresponding groups (above)."
   ]
  },
  {
   "cell_type": "code",
   "execution_count": 3,
   "metadata": {},
   "outputs": [],
   "source": [
    "\n",
    "allow_geo= ['Japan','SouthKorea','NorthKorea','Myanmar','Thailand','Laos','China','India','Malaysia','Philippines','Bangladesh','Cambodia','Indonesia','Vietnam','Bhutan','Nepal']\n",
    "## or untoggle the next line for no selection:\n",
    "#list(set(orderCore.loc[x,'COUNTRY']))\n",
    "\n",
    "allow_sbgp= ['trop','temp','subtrop','japx']\n",
    "## or untoggle the next line for no selection:\n",
    "#orderCore.loc[x,'Initial_subpop']"
   ]
  },
  {
   "cell_type": "code",
   "execution_count": 4,
   "metadata": {
    "scrolled": false
   },
   "outputs": [
    {
     "data": {
      "application/vnd.jupyter.widget-view+json": {
       "model_id": "6cf55fcdce254d7aaed36549d6e1976c",
       "version_major": 2,
       "version_minor": 0
      },
      "text/html": [
       "<p>Failed to display Jupyter Widget of type <code>interactive</code>.</p>\n",
       "<p>\n",
       "  If you're reading this message in the Jupyter Notebook or JupyterLab Notebook, it may mean\n",
       "  that the widgets JavaScript is still loading. If this message persists, it\n",
       "  likely means that the widgets JavaScript library is either not installed or\n",
       "  not enabled. See the <a href=\"https://ipywidgets.readthedocs.io/en/stable/user_install.html\">Jupyter\n",
       "  Widgets Documentation</a> for setup instructions.\n",
       "</p>\n",
       "<p>\n",
       "  If you're reading this message in another frontend (for example, a static\n",
       "  rendering on GitHub or <a href=\"https://nbviewer.jupyter.org/\">NBViewer</a>),\n",
       "  it may mean that your frontend doesn't currently support widgets.\n",
       "</p>\n"
      ],
      "text/plain": [
       "interactive(children=(Dropdown(description='selected_column', options=(-2, -1, 0, 1, 2, 3, 4, 5, 6, 7, 8, 9, 10), value=-2), Output()), _dom_classes=('widget-interact',))"
      ]
     },
     "metadata": {},
     "output_type": "display_data"
    },
    {
     "data": {
      "text/plain": [
       "<function targeted_plot_tools.plot_accessions3D>"
      ]
     },
     "execution_count": 4,
     "metadata": {},
     "output_type": "execute_result"
    }
   ],
   "source": [
    "from targeted_plot_tools import plot_accessions3D, plot_accessions\n",
    "\n",
    "### plot loadings:\n",
    "\n",
    "interact(plot_accessions3D,selected_column= [x for x in range(-2,len(cluster_pca.label.unique())+1)],\n",
    "        df= fixed(df),\n",
    "         orderCore= fixed(orderCore),\n",
    "         vectors= fixed(vectors),\n",
    "         allow_sbgp= fixed(allow_sbgp),\n",
    "         allow_geo= fixed(allow_geo),\n",
    "         color_ref= fixed(color_ref)) "
   ]
  },
  {
   "cell_type": "code",
   "execution_count": 5,
   "metadata": {
    "scrolled": false
   },
   "outputs": [
    {
     "data": {
      "application/vnd.jupyter.widget-view+json": {
       "model_id": "f44ed85066dc4f8cb906e4b830b407d1",
       "version_major": 2,
       "version_minor": 0
      },
      "text/html": [
       "<p>Failed to display Jupyter Widget of type <code>interactive</code>.</p>\n",
       "<p>\n",
       "  If you're reading this message in the Jupyter Notebook or JupyterLab Notebook, it may mean\n",
       "  that the widgets JavaScript is still loading. If this message persists, it\n",
       "  likely means that the widgets JavaScript library is either not installed or\n",
       "  not enabled. See the <a href=\"https://ipywidgets.readthedocs.io/en/stable/user_install.html\">Jupyter\n",
       "  Widgets Documentation</a> for setup instructions.\n",
       "</p>\n",
       "<p>\n",
       "  If you're reading this message in another frontend (for example, a static\n",
       "  rendering on GitHub or <a href=\"https://nbviewer.jupyter.org/\">NBViewer</a>),\n",
       "  it may mean that your frontend doesn't currently support widgets.\n",
       "</p>\n"
      ],
      "text/plain": [
       "interactive(children=(Dropdown(description='selected_column', options=(-2, -1, 0, 1, 2, 3, 4, 5, 6, 7, 8, 9, 10), value=-2), Dropdown(description='pc1', options=(1, 2, 3, 4, 5, 6, 7, 8), value=1), Dropdown(description='pc2', options=(2, 3, 4, 5, 6, 7, 8), value=2), Output()), _dom_classes=('widget-interact',))"
      ]
     },
     "metadata": {},
     "output_type": "display_data"
    },
    {
     "data": {
      "text/plain": [
       "<function targeted_plot_tools.plot_accessions>"
      ]
     },
     "execution_count": 5,
     "metadata": {},
     "output_type": "execute_result"
    }
   ],
   "source": [
    "### plot loadings:\n",
    "\n",
    "interact(plot_accessions,selected_column= [x for x in range(-2,len(cluster_pca.label.unique())+1)],\n",
    "         pc1= [x + 1 for x in range(df.shape[1])],\n",
    "         pc2=[x + 1 for x in range(1,df.shape[1])],\n",
    "        df= fixed(df),\n",
    "         orderCore= fixed(orderCore),\n",
    "         vectors= fixed(vectors),\n",
    "         allow_sbgp= fixed(allow_sbgp),\n",
    "         allow_geo= fixed(allow_geo),\n",
    "         color_ref= fixed(color_ref),\n",
    "        pca_var= fixed(pca_var)) "
   ]
  },
  {
   "cell_type": "code",
   "execution_count": 6,
   "metadata": {},
   "outputs": [
    {
     "data": {
      "application/vnd.jupyter.widget-view+json": {
       "model_id": "87355406ed844d579dbc7640b044a9cd",
       "version_major": 2,
       "version_minor": 0
      },
      "text/html": [
       "<p>Failed to display Jupyter Widget of type <code>interactive</code>.</p>\n",
       "<p>\n",
       "  If you're reading this message in the Jupyter Notebook or JupyterLab Notebook, it may mean\n",
       "  that the widgets JavaScript is still loading. If this message persists, it\n",
       "  likely means that the widgets JavaScript library is either not installed or\n",
       "  not enabled. See the <a href=\"https://ipywidgets.readthedocs.io/en/stable/user_install.html\">Jupyter\n",
       "  Widgets Documentation</a> for setup instructions.\n",
       "</p>\n",
       "<p>\n",
       "  If you're reading this message in another frontend (for example, a static\n",
       "  rendering on GitHub or <a href=\"https://nbviewer.jupyter.org/\">NBViewer</a>),\n",
       "  it may mean that your frontend doesn't currently support widgets.\n",
       "</p>\n"
      ],
      "text/plain": [
       "interactive(children=(Dropdown(description='selected_column', options=(1, 2, 3, 4, 5, 6, 7, 8, 9, 10), value=1), Output()), _dom_classes=('widget-interact',))"
      ]
     },
     "metadata": {},
     "output_type": "display_data"
    },
    {
     "data": {
      "text/plain": [
       "<function targeted_plot_tools.plot_countries>"
      ]
     },
     "execution_count": 6,
     "metadata": {},
     "output_type": "execute_result"
    }
   ],
   "source": [
    "from targeted_plot_tools import plot_countries    \n",
    "Name_changes= {\n",
    "    'Myanmar': 'Burma',\n",
    "    'SouthKorea': 'Korea, South',\n",
    "    'NorthKorea': 'Korea, North'\n",
    "}\n",
    "\n",
    "threshold_pval= .2\n",
    "\n",
    "interact(plot_countries,selected_column= list(range(1,len(cluster_pca.label.unique())+1)),\n",
    "        threshold= fixed(threshold_pval),\n",
    "        df= fixed(df),\n",
    "         orderCore= fixed(orderCore),\n",
    "         vectors= fixed(vectors),\n",
    "         allow_geo= fixed(allow_geo),\n",
    "        scope= fixed('asia'),\n",
    "        change_name= fixed(Name_changes))"
   ]
  },
  {
   "cell_type": "code",
   "execution_count": null,
   "metadata": {},
   "outputs": [],
   "source": []
  },
  {
   "cell_type": "markdown",
   "metadata": {},
   "source": [
    "#### V. *P*-value distribution\n",
    "\n",
    "Plot the density of average inidividual *p*-values for a selected group of MS vectors."
   ]
  },
  {
   "cell_type": "code",
   "execution_count": 13,
   "metadata": {
    "scrolled": false
   },
   "outputs": [
    {
     "data": {
      "application/vnd.jupyter.widget-view+json": {
       "model_id": "89d07d95aa9445b5834fdb46cb536966",
       "version_major": 2,
       "version_minor": 0
      },
      "text/html": [
       "<p>Failed to display Jupyter Widget of type <code>interactive</code>.</p>\n",
       "<p>\n",
       "  If you're reading this message in the Jupyter Notebook or JupyterLab Notebook, it may mean\n",
       "  that the widgets JavaScript is still loading. If this message persists, it\n",
       "  likely means that the widgets JavaScript library is either not installed or\n",
       "  not enabled. See the <a href=\"https://ipywidgets.readthedocs.io/en/stable/user_install.html\">Jupyter\n",
       "  Widgets Documentation</a> for setup instructions.\n",
       "</p>\n",
       "<p>\n",
       "  If you're reading this message in another frontend (for example, a static\n",
       "  rendering on GitHub or <a href=\"https://nbviewer.jupyter.org/\">NBViewer</a>),\n",
       "  it may mean that your frontend doesn't currently support widgets.\n",
       "</p>\n"
      ],
      "text/plain": [
       "interactive(children=(Dropdown(description='selected_group', options=(1, 2, 3, 4, 5, 6, 7, 8, 9, 10), value=1), Output()), _dom_classes=('widget-interact',))"
      ]
     },
     "metadata": {},
     "output_type": "display_data"
    },
    {
     "data": {
      "text/plain": [
       "<function __main__.plot_density>"
      ]
     },
     "execution_count": 13,
     "metadata": {},
     "output_type": "execute_result"
    }
   ],
   "source": [
    "## plot average likelihoods:\n",
    "\n",
    "def plot_density(selected_group):\n",
    "    dense_plot=  ff.create_distplot([vectors.iloc[:,selected_group-1]], [selected_group-1])\n",
    "    dense_plot['layout'].update(title='<b>likelihood density {}</b>'.format(selected_group))\n",
    "\n",
    "    \n",
    "    iplot(dense_plot)\n",
    "\n",
    "\n",
    "interact(plot_density,selected_group= [x for x in range(1,len(cluster_pca.label.unique())+1)])    "
   ]
  },
  {
   "cell_type": "markdown",
   "metadata": {},
   "source": [
    "#### VI. Genome distribution of selected cluster.\n",
    "\n",
    "#### A. Ideograms\n",
    "\n",
    "Cluster affinity plotted along the genomes of accessions selected for this analysis."
   ]
  },
  {
   "cell_type": "code",
   "execution_count": 14,
   "metadata": {},
   "outputs": [
    {
     "data": {
      "application/vnd.jupyter.widget-view+json": {
       "model_id": "bed7052031c94e3c980a3b79ca9fe699",
       "version_major": 2,
       "version_minor": 0
      },
      "text/html": [
       "<p>Failed to display Jupyter Widget of type <code>interactive</code>.</p>\n",
       "<p>\n",
       "  If you're reading this message in the Jupyter Notebook or JupyterLab Notebook, it may mean\n",
       "  that the widgets JavaScript is still loading. If this message persists, it\n",
       "  likely means that the widgets JavaScript library is either not installed or\n",
       "  not enabled. See the <a href=\"https://ipywidgets.readthedocs.io/en/stable/user_install.html\">Jupyter\n",
       "  Widgets Documentation</a> for setup instructions.\n",
       "</p>\n",
       "<p>\n",
       "  If you're reading this message in another frontend (for example, a static\n",
       "  rendering on GitHub or <a href=\"https://nbviewer.jupyter.org/\">NBViewer</a>),\n",
       "  it may mean that your frontend doesn't currently support widgets.\n",
       "</p>\n"
      ],
      "text/plain": [
       "interactive(children=(Dropdown(description='select_column', options=(0, 1, 2, 3, 4, 5, 6, 7, 8, 9, 10), value=0), Dropdown(description='CHR', options=(1, 2, 3, 4, 5, 6, 7, 8, 9, 10, 11, 12), value=1), Dropdown(description='ID', options=('Japonica_self_KDE',), value='Japonica_self_KDE'), Output()), _dom_classes=('widget-interact',))"
      ]
     },
     "metadata": {},
     "output_type": "display_data"
    },
    {
     "data": {
      "text/plain": [
       "<function targeted_tools.display_ideo>"
      ]
     },
     "execution_count": 14,
     "metadata": {},
     "output_type": "execute_result"
    }
   ],
   "source": [
    "import plotly.plotly as py\n",
    "from targeted_tools import display_ideo\n",
    "\n",
    "interact(display_ideo,ID= [ID],select_column= [x for x in range(0,len(cluster_pca.label.unique())+1)],CHR= list(range(1,13)))"
   ]
  },
  {
   "cell_type": "markdown",
   "metadata": {},
   "source": [
    "#### B.  plot ideogram"
   ]
  },
  {
   "cell_type": "code",
   "execution_count": 18,
   "metadata": {},
   "outputs": [],
   "source": [
    "from targeted_tools import read_focus, target_ideogram\n",
    "IDfile= 'ID_focus.txt'\n",
    "\n",
    "IDs= read_focus(IDfile)\n",
    "order= list(range(len(IDs)))\n",
    "\n",
    "order_file= 'CORE_final.txt'\n",
    "\n",
    "if order_file:\n",
    "    Order= read_focus(order_file)\n",
    "    new_order= {x: Order.index(x) for x in IDs}\n",
    "    new_order= sorted(new_order,key= new_order.get)\n",
    "    \n",
    "    order= [IDs.index(x) for x in new_order]\n",
    "    IDs= new_order\n",
    "    \n",
    "\n",
    "plot_tool= 'mpl' # \"plotly\" also possible. much heavier."
   ]
  },
  {
   "cell_type": "code",
   "execution_count": 20,
   "metadata": {},
   "outputs": [
    {
     "name": "stdout",
     "output_type": "stream",
     "text": [
      "59031\n",
      "adding ideograms...\n"
     ]
    },
    {
     "data": {
      "image/png": "[encoded data removed]",
      "text/plain": [
       "<matplotlib.figure.Figure at 0xe81a0b0>"
      ]
     },
     "metadata": {},
     "output_type": "display_data"
    }
   ],
   "source": [
    "from targeted_tools import mpl_target_ideo, chromosome_collections\n",
    "    \n",
    "select_label= [3,4]\n",
    "Chr= 9\n",
    "\n",
    "Colors= {\n",
    "    -1: [192,192,192],\n",
    "    1: [255,0,0],\n",
    "    3: [255,0,0],\n",
    "    4: [0,0,255],\n",
    "    6: [0,0,255],\n",
    "    7: [0,0,0],\n",
    "    8: [255,0,0],\n",
    "    9: [255,0,0],\n",
    "    2: [0,0,0]\n",
    "}\n",
    "\n",
    "if plot_tool== 'plotly':\n",
    "\n",
    "    Colors= {\n",
    "        x: 'rgba(' + ','.join([str(z) for z in Colors[x]]) + ',1)' for x in Colors.keys()\n",
    "    }\n",
    "\n",
    "    target_ideogram(select_label,Coordinates,IDs,Colors=Colors,Chr= Chr,background= False,height_chrom= .5,height= 10,width= 5)\n",
    "\n",
    "if plot_tool== 'mpl':\n",
    "    \n",
    "    background= True\n",
    "    ideo_height= 1\n",
    "    ideo_spacing= 0\n",
    "    height= 9\n",
    "    width= 15\n",
    "    \n",
    "    xticks= 1e6\n",
    "    fig_save= True\n",
    "    fig_id= 'ideo_target'\n",
    "    Home= ''\n",
    "\n",
    "\n",
    "    mpl_target_ideo(select_label,\n",
    "                    Coordinates,\n",
    "                    IDs,\n",
    "                    order= order,\n",
    "                    background= True,\n",
    "                    Chr= Chr,\n",
    "                    ideo_height= 1,\n",
    "                    ideo_spacing= 0,\n",
    "                    xticks= xticks,\n",
    "                    fig_save= fig_save,\n",
    "                    fig_id= 'ideo_target',\n",
    "                    Colors= Colors,\n",
    "                    height= height,\n",
    "                    width= width,\n",
    "                   Home= Home)\n",
    "\n"
   ]
  },
  {
   "cell_type": "markdown",
   "metadata": {},
   "source": [
    "#### C. density of selected clusters across chromosomes"
   ]
  },
  {
   "cell_type": "code",
   "execution_count": 12,
   "metadata": {},
   "outputs": [
    {
     "data": {
      "text/plain": [
       "''"
      ]
     },
     "execution_count": 12,
     "metadata": {},
     "output_type": "execute_result"
    }
   ],
   "source": [
    "Home"
   ]
  },
  {
   "cell_type": "code",
   "execution_count": 13,
   "metadata": {},
   "outputs": [],
   "source": [
    "select_label= 9\n",
    "\n",
    "bandwidth_gen= 10e4"
   ]
  },
  {
   "cell_type": "code",
   "execution_count": 14,
   "metadata": {},
   "outputs": [
    {
     "name": "stdout",
     "output_type": "stream",
     "text": [
      "This is the format of your plot grid:\n",
      "[ (1,1) x1,y1 ]  \n",
      "[ (2,1) x1,y2 ]  \n",
      "[ (3,1) x1,y3 ]  \n",
      "[ (4,1) x1,y4 ]  \n",
      "[ (5,1) x1,y5 ]  \n",
      "[ (6,1) x1,y6 ]  \n",
      "[ (7,1) x1,y7 ]  \n",
      "[ (8,1) x1,y8 ]  \n",
      "[ (9,1) x1,y9 ]  \n",
      "[ (10,1) x1,y10 ]\n",
      "[ (11,1) x1,y11 ]\n",
      "[ (12,1) x1,y12 ]\n",
      "\n"
     ]
    },
    {
     "data": {
      "text/html": [
       "<iframe id=\"igraph\" scrolling=\"no\" style=\"border:none;\" seamless=\"seamless\" src=\"https://plot.ly/~joaoGSantos/444.embed\" height=\"1200px\" width=\"800px\"></iframe>"
      ],
      "text/plain": [
       "<plotly.tools.PlotlyDisplay object>"
      ]
     },
     "execution_count": 14,
     "metadata": {},
     "output_type": "execute_result"
    }
   ],
   "source": [
    "## Plot physical distribution of clusters included in the analytsis.\n",
    "import plotly.plotly as py\n",
    "from sklearn.neighbors import KernelDensity\n",
    "import itertools as it\n",
    "\n",
    "select_lab= select_label -1\n",
    "\n",
    "\n",
    "chromosomes= Coordinates.chrom.unique()\n",
    "x_range= [0,max(Coordinates.end)]\n",
    "\n",
    "from plotly import tools\n",
    "\n",
    "fig = tools.make_subplots(rows=len(chromosomes), cols=1,shared_xaxes=True)\n",
    "\n",
    "for Chr in chromosomes:\n",
    "    \n",
    "    sub_slice= Coordinates.loc[Coordinates['chrom']==Chr]\n",
    "    sub_slice= sub_slice.reset_index(drop=True)\n",
    "    EN= [str(x).split('.') for x in sub_slice.members]\n",
    "    \n",
    "    count= [[sub_slice.start[x]] * len(EN[x]) for x in range(sub_slice.shape[0]) if sub_slice.label[x] == select_lab]\n",
    "    count= [x for x in it.chain(*count)]\n",
    "    \n",
    "    locs= count\n",
    "    \n",
    "    X_plot = np.linspace(x_range[0], x_range[1], 1000)\n",
    "\n",
    "    kde = KernelDensity(kernel='gaussian', bandwidth=bandwidth_gen).fit(np.array(locs).reshape(-1,1))\n",
    "\n",
    "    log_dens = kde.score_samples(X_plot.reshape(-1,1))\n",
    "    \n",
    "    trace= go.Scatter(x=X_plot, y=np.exp(log_dens), \n",
    "                                mode='lines', fill='tozeroy', name= 'chr: {}'.format(Chr),\n",
    "                                line=dict(color='red', width=2))\n",
    "    \n",
    "    fig['layout']['yaxis' + str(Chr)].update(range=[0, 1e-6],title='CHR ' + str(Chr))\n",
    "    \n",
    "    fig.append_trace(trace,row= int(Chr),col= 1)\n",
    "\n",
    "fig['layout'].update(height=1200, width=800, title='Genome dist')\n",
    "py.iplot(fig)"
   ]
  },
  {
   "cell_type": "markdown",
   "metadata": {},
   "source": [
    "#### VI. Output IDs\n",
    "\n",
    "Extract individiduals based on a lower threshold on average *p*-value for a given group of vectors.\n"
   ]
  },
  {
   "cell_type": "code",
   "execution_count": 38,
   "metadata": {},
   "outputs": [
    {
     "name": "stdout",
     "output_type": "stream",
     "text": [
      "46\n"
     ]
    }
   ],
   "source": [
    "ext_threshold= .4\n",
    "ext_grp= 10\n",
    "\n",
    "names_index = [[f for f in orderCore.ID].index(x) for x in [str(y) for y in df.iloc[:,1]]]\n",
    "\n",
    "density_values= vectors.iloc[:,ext_grp-1]\n",
    "\n",
    "extract= [x for x in range(vectors.shape[0]) if density_values[x] >= ext_threshold]\n",
    "\n",
    "if extract:\n",
    "    extract= [names_index[x] for x in extract]\n",
    "\n",
    "    subgpID= [orderCore.ID[x] for x in extract]\n",
    "    print(len(subgpID))\n",
    "\n",
    "    filename= 'IDs_{}_gp{}_th{}.txt'.format(ID,str(ext_grp),str(ext_threshold))\n",
    "\n",
    "    Output= open(filename,'w')\n",
    "\n",
    "    Output.write('\\n'.join(subgpID))\n",
    "\n",
    "    Output.close()\n"
   ]
  },
  {
   "cell_type": "code",
   "execution_count": null,
   "metadata": {},
   "outputs": [],
   "source": []
  }
 ],
 "metadata": {
  "kernelspec": {
   "display_name": "Python 3",
   "language": "python",
   "name": "python3"
  },
  "language_info": {
   "codemirror_mode": {
    "name": "ipython",
    "version": 3
   },
   "file_extension": ".py",
   "mimetype": "text/x-python",
   "name": "python",
   "nbconvert_exporter": "python",
   "pygments_lexer": "ipython3",
   "version": "3.6.3"
  }
 },
 "nbformat": 4,
 "nbformat_minor": 2
}
