{
 "cells": [
  {
   "cell_type": "code",
   "execution_count": 2,
   "metadata": {},
   "outputs": [
    {
     "data": {
      "text/html": [
       "<script type=\"text/javascript\">window.PlotlyConfig = {MathJaxConfig: 'local'};</script><script type=\"text/javascript\">if (window.MathJax) {MathJax.Hub.Config({SVG: {font: \"STIX-Web\"}});}</script><script>requirejs.config({paths: { 'plotly': ['https://cdn.plot.ly/plotly-latest.min']},});if(!window._Plotly) {require(['plotly'],function(plotly) {window._Plotly=plotly;});}</script>"
      ],
      "text/vnd.plotly.v1+html": [
       "<script type=\"text/javascript\">window.PlotlyConfig = {MathJaxConfig: 'local'};</script><script type=\"text/javascript\">if (window.MathJax) {MathJax.Hub.Config({SVG: {font: \"STIX-Web\"}});}</script><script>requirejs.config({paths: { 'plotly': ['https://cdn.plot.ly/plotly-latest.min']},});if(!window._Plotly) {require(['plotly'],function(plotly) {window._Plotly=plotly;});}</script>"
      ]
     },
     "metadata": {},
     "output_type": "display_data"
    }
   ],
   "source": [
    "import pandas as pd\n",
    "import numpy as np\n",
    "import os\n",
    "import itertools as it\n",
    "\n",
    "import plotly\n",
    "import plotly.plotly as py\n",
    "import plotly.graph_objs as go\n",
    "from plotly.offline import download_plotlyjs, init_notebook_mode, plot, iplot\n",
    "from plotly.graph_objs import *\n",
    "\n",
    "import collections\n",
    "\n",
    "def recursively_default_dict():\n",
    "        return collections.defaultdict(recursively_default_dict)\n",
    "\n",
    "init_notebook_mode(connected=True)"
   ]
  },
  {
   "cell_type": "markdown",
   "metadata": {},
   "source": [
    "Classification summary across thresholds used. This notebook analyses classification proportions across specific groups following supervised local kernel density analysis. Analyses should have been run using one or more classification thresholds. Then, for each threshold, classification summary across specific groups must have been performed using the notebook [Summary_classifications](https://nbviewer.jupyter.org/github/SantosJGND/Galaxy_KDE_classifier/blob/master/Summary_functions/Summary_output_examples/Summary_classification/Summary_exploration.ipynb). This notebook combines the output of the script `Summary_analyses.py`, which performs classification for a given for a predetermined set of thresholds and outputs the genome proportion assigned to each class by individual, with passport information, allowing the user to parse this output using the global classifications of each individual.\n",
    "\n",
    "In this notebook, we analyse average proportion assigned to each class across a range of *p*-value comparison threshold for the groups Japonica, Indica, cAus and cBasmati."
   ]
  },
  {
   "cell_type": "code",
   "execution_count": 9,
   "metadata": {},
   "outputs": [],
   "source": [
    "th_stock= [1,1.2,1.4,1.7,2,3,4,5]\n",
    "\n",
    "groups= ['Japonica','Aus','Indica','cBasmati']\n",
    "\n",
    "Gpstats= recursively_default_dict()\n",
    "\n",
    "\n",
    "\n",
    "for thresh in th_stock:\n",
    "    \n",
    "    for gp in groups:\n",
    "        filename= 'Summary_th' + str(thresh) + '/Summary_CSVs/' + gp + '_summary_MEAN.txt'\n",
    "        \n",
    "        \n",
    "        df= pd.read_csv(filename,sep= '\\t')\n",
    "        Colz= df.color\n",
    "        \n",
    "        Gpstats[gp][thresh]= df['length_%']\n",
    "        \n",
    "        "
   ]
  },
  {
   "cell_type": "code",
   "execution_count": 8,
   "metadata": {},
   "outputs": [
    {
     "name": "stdout",
     "output_type": "stream",
     "text": [
      "['Japonica', 'Aus', 'Indica', 'cBasmati']\n",
      "This is the format of your plot grid:\n",
      "[ (1,1) x1,y1 ]  [ (1,2) x2,y2 ]\n",
      "[ (2,1) x3,y3 ]  [ (2,2) x4,y4 ]\n",
      "\n"
     ]
    },
    {
     "data": {
      "application/vnd.plotly.v1+json": {
       "config": {
        "linkText": "Export to plot.ly",
        "plotlyServerURL": "https://plot.ly",
        "showLink": true
       },
       "data": [
        {
         "marker": {
          "color": "red"
         },
         "mode": "lines+markers",
         "name": "Indica",
         "type": "scatter",
         "uid": "84517966-22b8-42ab-9312-7dff24eba596",
         "x": [
          1,
          1.2,
          1.4,
          1.7,
          2,
          3,
          4,
          5
         ],
         "xaxis": "x",
         "y": [
          14.877313595804624,
          6.63885029099694,
          3.180423296895434,
          2.2776823284261005,
          1.9815769085971957,
          1.4848321040302193,
          1.2374737398690638,
          1.0514517623618016
         ],
         "yaxis": "y"
        },
        {
         "marker": {
          "color": "blue"
         },
         "mode": "lines+markers",
         "name": "Japonica",
         "type": "scatter",
         "uid": "477401ea-3863-4ae9-a3be-d9928cc66c12",
         "x": [
          1,
          1.2,
          1.4,
          1.7,
          2,
          3,
          4,
          5
         ],
         "xaxis": "x",
         "y": [
          72.30616075967781,
          64.4893772230609,
          62.020385866051704,
          60.22521583843398,
          59.03085261958446,
          56.332493210374956,
          54.581146555933074,
          53.42337795695358
         ],
         "yaxis": "y"
        },
        {
         "marker": {
          "color": "yellow"
         },
         "mode": "lines+markers",
         "name": "cAus",
         "type": "scatter",
         "uid": "3d8f2189-ca52-448c-a133-02ffa178c657",
         "x": [
          1,
          1.2,
          1.4,
          1.7,
          2,
          3,
          4,
          5
         ],
         "xaxis": "x",
         "y": [
          11.461814113896391,
          4.5924013055802515,
          2.2469182264397203,
          1.2174672818799757,
          0.8180294152597721,
          0.5947623340805175,
          0.4933313551364099,
          0.4394953506650325
         ],
         "yaxis": "y"
        },
        {
         "marker": {
          "color": "purple"
         },
         "mode": "lines+markers",
         "name": "Indica-Japonica",
         "type": "scatter",
         "uid": "a954254e-58a0-4bae-a139-7a67a85aae9c",
         "x": [
          1,
          1.2,
          1.4,
          1.7,
          2,
          3,
          4,
          5
         ],
         "xaxis": "x",
         "y": [
          0.010539716311359266,
          9.278559057027477,
          12.50412492019066,
          13.455365592270072,
          13.674564145636733,
          13.891023840458748,
          13.936128852115145,
          13.82459704006554
         ],
         "yaxis": "y"
        },
        {
         "marker": {
          "color": "green"
         },
         "mode": "lines+markers",
         "name": "Japonica-cAus",
         "type": "scatter",
         "uid": "3b11688e-cfc2-4346-8809-d3d84e407e96",
         "x": [
          1,
          1.2,
          1.4,
          1.7,
          2,
          3,
          4,
          5
         ],
         "xaxis": "x",
         "y": [
          0.020862989864664037,
          5.646108381971965,
          6.858261479393273,
          7.734528591307209,
          8.018164471153407,
          8.935017645831401,
          9.396336274998264,
          9.474794280145025
         ],
         "yaxis": "y"
        },
        {
         "marker": {
          "color": "orange"
         },
         "mode": "lines+markers",
         "name": "Indica-cAus",
         "type": "scatter",
         "uid": "d6537f89-39e4-4b6f-becf-8bb094522372",
         "x": [
          1,
          1.2,
          1.4,
          1.7,
          2,
          3,
          4,
          5
         ],
         "xaxis": "x",
         "y": [
          0.15677158906052546,
          2.9682034242956528,
          1.705315606850186,
          1.1974284279434733,
          0.9258178489354371,
          0.9059246965193236,
          0.7919847840502527,
          0.7655727630806239
         ],
         "yaxis": "y"
        },
        {
         "marker": {
          "color": "silver"
         },
         "mode": "lines+markers",
         "name": "Indica-Japonica-cAus",
         "type": "scatter",
         "uid": "3f1a4d21-51b8-4ae2-b8e3-001d3173b6e1",
         "x": [
          1,
          1.2,
          1.4,
          1.7,
          2,
          3,
          4,
          5
         ],
         "xaxis": "x",
         "y": [
          0.16856063132933535,
          5.388508397726487,
          10.486594947196544,
          12.894335179446113,
          14.553012982992149,
          16.857962333886434,
          18.564247579286,
          20.022737529459068
         ],
         "yaxis": "y"
        },
        {
         "marker": {
          "color": "red"
         },
         "mode": "lines+markers",
         "name": "Indica",
         "type": "scatter",
         "uid": "0d67172c-3282-4575-9e3f-c1d5b1c776e3",
         "x": [
          1,
          1.2,
          1.4,
          1.7,
          2,
          3,
          4,
          5
         ],
         "xaxis": "x2",
         "y": [
          15.067473900661573,
          7.9496418607671,
          5.889124220129747,
          4.902730770951212,
          4.244276913311274,
          3.069065117152555,
          2.4380212955026064,
          2.038307669024228
         ],
         "yaxis": "y2"
        },
        {
         "marker": {
          "color": "blue"
         },
         "mode": "lines+markers",
         "name": "Japonica",
         "type": "scatter",
         "uid": "a2bee723-4868-4266-8527-0fc404349813",
         "x": [
          1,
          1.2,
          1.4,
          1.7,
          2,
          3,
          4,
          5
         ],
         "xaxis": "x2",
         "y": [
          8.314710948670657,
          3.5284956530770932,
          2.5188215688542006,
          2.125150834359077,
          1.87997454810725,
          1.4090551175728292,
          1.0818593988695286,
          0.9457535062877775
         ],
         "yaxis": "y2"
        },
        {
         "marker": {
          "color": "yellow"
         },
         "mode": "lines+markers",
         "name": "cAus",
         "type": "scatter",
         "uid": "a8d440c4-6873-4ead-aded-0d719fa367d2",
         "x": [
          1,
          1.2,
          1.4,
          1.7,
          2,
          3,
          4,
          5
         ],
         "xaxis": "x2",
         "y": [
          75.76137913318409,
          65.60054558499725,
          61.41935445679378,
          58.902280559131526,
          57.5418628705538,
          55.10551479491825,
          53.70917013515352,
          52.49868234861023
         ],
         "yaxis": "y2"
        },
        {
         "marker": {
          "color": "purple"
         },
         "mode": "lines+markers",
         "name": "Indica-Japonica",
         "type": "scatter",
         "uid": "1d318497-e9d5-4199-9033-5fc25ddc278e",
         "x": [
          1,
          1.2,
          1.4,
          1.7,
          2,
          3,
          4,
          5
         ],
         "xaxis": "x2",
         "y": [
          0.010252733047299008,
          2.1159986800981447,
          1.9188199045595518,
          1.8287619900806984,
          1.7442421306936369,
          1.5250133595709097,
          1.2453332473363468,
          1.1228403871789263
         ],
         "yaxis": "y2"
        },
        {
         "marker": {
          "color": "green"
         },
         "mode": "lines+markers",
         "name": "Japonica-cAus",
         "type": "scatter",
         "uid": "d9122c2a-4e57-4f9b-a9ed-8f3c4cda89fa",
         "x": [
          1,
          1.2,
          1.4,
          1.7,
          2,
          3,
          4,
          5
         ],
         "xaxis": "x2",
         "y": [
          0.02086270933784004,
          4.697034776502483,
          5.116293287961755,
          5.63915820820251,
          5.733649010138882,
          6.130386456271138,
          6.291369207440129,
          6.110326005088549
         ],
         "yaxis": "y2"
        },
        {
         "marker": {
          "color": "orange"
         },
         "mode": "lines+markers",
         "name": "Indica-cAus",
         "type": "scatter",
         "uid": "2ff02910-7e59-487c-a77a-7bd58edbae02",
         "x": [
          1,
          1.2,
          1.4,
          1.7,
          2,
          3,
          4,
          5
         ],
         "xaxis": "x2",
         "y": [
          0.16041303872228185,
          10.498804141469725,
          13.382948414788272,
          15.02661327830696,
          15.956471558191614,
          18.41861463378304,
          19.65767642410989,
          20.753616073120252
         ],
         "yaxis": "y2"
        },
        {
         "marker": {
          "color": "silver"
         },
         "mode": "lines+markers",
         "name": "Indica-Japonica-cAus",
         "type": "scatter",
         "uid": "8ed8833d-c142-45ac-9b2c-6ce9d5f6e9b9",
         "x": [
          1,
          1.2,
          1.4,
          1.7,
          2,
          3,
          4,
          5
         ],
         "xaxis": "x2",
         "y": [
          0.16855836483834488,
          5.113121864233724,
          9.258285202260591,
          11.078965592910606,
          12.40316922209462,
          13.845996782523606,
          15.084825501260164,
          16.034116115959357
         ],
         "yaxis": "y2"
        },
        {
         "marker": {
          "color": "red"
         },
         "mode": "lines+markers",
         "name": "Indica",
         "type": "scatter",
         "uid": "abefc153-f680-465e-a23d-904d7b5c828f",
         "x": [
          1,
          1.2,
          1.4,
          1.7,
          2,
          3,
          4,
          5
         ],
         "xaxis": "x3",
         "y": [
          69.91959669098408,
          59.22634158512541,
          54.708570911712464,
          51.97791504198465,
          50.045895806622475,
          45.880458106595725,
          43.43118108074481,
          41.54728626123284
         ],
         "yaxis": "y3"
        },
        {
         "marker": {
          "color": "blue"
         },
         "mode": "lines+markers",
         "name": "Japonica",
         "type": "scatter",
         "uid": "e80d017e-bece-4fed-9e30-294200d964fa",
         "x": [
          1,
          1.2,
          1.4,
          1.7,
          2,
          3,
          4,
          5
         ],
         "xaxis": "x3",
         "y": [
          10.273223283025024,
          3.758265347513852,
          2.301226481751982,
          1.92274522403015,
          1.7084320302008589,
          1.3189008444160562,
          1.0065141509593707,
          0.8968760479138402
         ],
         "yaxis": "y3"
        },
        {
         "marker": {
          "color": "yellow"
         },
         "mode": "lines+markers",
         "name": "cAus",
         "type": "scatter",
         "uid": "aa15a729-c057-472c-b92d-9a4aa1260ef7",
         "x": [
          1,
          1.2,
          1.4,
          1.7,
          2,
          3,
          4,
          5
         ],
         "xaxis": "x3",
         "y": [
          18.767392968519346,
          9.037855143339636,
          5.063130847253572,
          3.608269878359188,
          2.987231263549578,
          2.433556794729007,
          2.156021520717192,
          1.9876088765714808
         ],
         "yaxis": "y3"
        },
        {
         "marker": {
          "color": "purple"
         },
         "mode": "lines+markers",
         "name": "Indica-Japonica",
         "type": "scatter",
         "uid": "c1a08c2a-6d9c-4be6-a193-9cdd3c35eb5d",
         "x": [
          1,
          1.2,
          1.4,
          1.7,
          2,
          3,
          4,
          5
         ],
         "xaxis": "x3",
         "y": [
          0.010539762589247777,
          8.421234232590692,
          10.80505609927459,
          11.3703629128976,
          11.526856730452367,
          11.638713709237974,
          11.449200549827859,
          11.376779659646347
         ],
         "yaxis": "y3"
        },
        {
         "marker": {
          "color": "green"
         },
         "mode": "lines+markers",
         "name": "Japonica-cAus",
         "type": "scatter",
         "uid": "0401cece-cf5b-4c62-8ac0-66fd100510e1",
         "x": [
          1,
          1.2,
          1.4,
          1.7,
          2,
          3,
          4,
          5
         ],
         "xaxis": "x3",
         "y": [
          0.02067805288132526,
          1.9091782959751435,
          1.023277706566315,
          0.9795465281048716,
          0.8877001871277974,
          0.8490173283214788,
          0.8900436767894983,
          0.6783963252978286
         ],
         "yaxis": "y3"
        },
        {
         "marker": {
          "color": "orange"
         },
         "mode": "lines+markers",
         "name": "Indica-cAus",
         "type": "scatter",
         "uid": "9165e4c6-1273-4f6c-be1b-e74e58142665",
         "x": [
          1,
          1.2,
          1.4,
          1.7,
          2,
          3,
          4,
          5
         ],
         "xaxis": "x3",
         "y": [
          0.16041590004114473,
          11.65572605967093,
          15.505759197152804,
          17.390550199334072,
          18.58585847116493,
          21.411490709615734,
          22.880863879109718,
          24.004508449005147
         ],
         "yaxis": "y3"
        },
        {
         "marker": {
          "color": "silver"
         },
         "mode": "lines+markers",
         "name": "Indica-Japonica-cAus",
         "type": "scatter",
         "uid": "f1040b1b-e6ea-46c1-9df6-7a5e584bf0bd",
         "x": [
          1,
          1.2,
          1.4,
          1.7,
          2,
          3,
          4,
          5
         ],
         "xaxis": "x3",
         "y": [
          0.16856137144698885,
          5.311794494740403,
          9.913389171974403,
          12.071022189909463,
          13.578423944778645,
          15.78826994834202,
          17.50820803816902,
          18.828951261779423
         ],
         "yaxis": "y3"
        },
        {
         "marker": {
          "color": "red"
         },
         "mode": "lines+markers",
         "name": "Indica",
         "type": "scatter",
         "uid": "1b3b852a-e8ea-46f4-904b-7c4c6028e6e3",
         "x": [
          1,
          1.2,
          1.4,
          1.7,
          2,
          3,
          4,
          5
         ],
         "xaxis": "x4",
         "y": [
          20.08890754976042,
          12.102929342588524,
          8.998024547140737,
          7.9199825328449345,
          7.456062753110121,
          6.5074921498172245,
          6.020497758334825,
          5.559389832736115
         ],
         "yaxis": "y4"
        },
        {
         "marker": {
          "color": "blue"
         },
         "mode": "lines+markers",
         "name": "Japonica",
         "type": "scatter",
         "uid": "01d875f7-4813-4417-9b8f-a26d0813ff5e",
         "x": [
          1,
          1.2,
          1.4,
          1.7,
          2,
          3,
          4,
          5
         ],
         "xaxis": "x4",
         "y": [
          41.786411784456185,
          35.195198408272844,
          33.29121357121898,
          31.927369156858862,
          30.996382406667877,
          29.09651570956469,
          27.89797752819202,
          27.022243698988103
         ],
         "yaxis": "y4"
        },
        {
         "marker": {
          "color": "yellow"
         },
         "mode": "lines+markers",
         "name": "cAus",
         "type": "scatter",
         "uid": "8d441352-0974-467a-9db2-fab33843785b",
         "x": [
          1,
          1.2,
          1.4,
          1.7,
          2,
          3,
          4,
          5
         ],
         "xaxis": "x4",
         "y": [
          25.16192265847056,
          17.698781776675556,
          14.969864027296664,
          13.478341011709846,
          12.85630204125407,
          12.116782922203956,
          11.71076678870976,
          11.275558325810216
         ],
         "yaxis": "y4"
        },
        {
         "marker": {
          "color": "purple"
         },
         "mode": "lines+markers",
         "name": "Indica-Japonica",
         "type": "scatter",
         "uid": "694bc0b7-57f0-4d0e-9766-571dceecdb6c",
         "x": [
          1,
          1.2,
          1.4,
          1.7,
          2,
          3,
          4,
          5
         ],
         "xaxis": "x4",
         "y": [
          0.010499689520321109,
          7.382512769468264,
          9.67367399928011,
          10.317888933811854,
          10.392473278762333,
          10.27719969472676,
          10.216615868442801,
          10.026931994412342
         ],
         "yaxis": "y4"
        },
        {
         "marker": {
          "color": "green"
         },
         "mode": "lines+markers",
         "name": "Japonica-cAus",
         "type": "scatter",
         "uid": "1da83f88-58f0-4135-8b63-b7484fc91ecd",
         "x": [
          1,
          1.2,
          1.4,
          1.7,
          2,
          3,
          4,
          5
         ],
         "xaxis": "x4",
         "y": [
          0.020702493028890386,
          4.776168440019021,
          5.573923002757288,
          6.375612015100755,
          6.6676462935142276,
          7.363613999063589,
          7.724804701414148,
          7.751124211967992
         ],
         "yaxis": "y4"
        },
        {
         "marker": {
          "color": "orange"
         },
         "mode": "lines+markers",
         "name": "Indica-cAus",
         "type": "scatter",
         "uid": "598b7fc2-c799-4216-b045-4f8f7cd084a4",
         "x": [
          1,
          1.2,
          1.4,
          1.7,
          2,
          3,
          4,
          5
         ],
         "xaxis": "x4",
         "y": [
          0.15806247649624822,
          5.266250919310955,
          5.3021256203162785,
          5.5711508676952235,
          5.643960397235823,
          6.45212993622514,
          6.7557984248512986,
          7.182283853434161
         ],
         "yaxis": "y4"
        },
        {
         "marker": {
          "color": "silver"
         },
         "mode": "lines+markers",
         "name": "Indica-Japonica-cAus",
         "type": "scatter",
         "uid": "4a01e32f-21df-49ea-9206-f613988fb535",
         "x": [
          1,
          1.2,
          1.4,
          1.7,
          2,
          3,
          4,
          5
         ],
         "xaxis": "x4",
         "y": [
          0.16853358229584586,
          4.973082319130699,
          9.586299852415564,
          11.804710128650033,
          13.382100662378376,
          15.581176164828465,
          17.073540636566474,
          18.577571635825784
         ],
         "yaxis": "y4"
        }
       ],
       "layout": {
        "annotations": [
         {
          "font": {
           "size": 16
          },
          "showarrow": false,
          "text": "Japonica",
          "x": 0.225,
          "xanchor": "center",
          "xref": "paper",
          "y": 1,
          "yanchor": "bottom",
          "yref": "paper"
         },
         {
          "font": {
           "size": 16
          },
          "showarrow": false,
          "text": "Aus",
          "x": 0.775,
          "xanchor": "center",
          "xref": "paper",
          "y": 1,
          "yanchor": "bottom",
          "yref": "paper"
         },
         {
          "font": {
           "size": 16
          },
          "showarrow": false,
          "text": "Indica",
          "x": 0.225,
          "xanchor": "center",
          "xref": "paper",
          "y": 0.375,
          "yanchor": "bottom",
          "yref": "paper"
         },
         {
          "font": {
           "size": 16
          },
          "showarrow": false,
          "text": "cBasmati",
          "x": 0.775,
          "xanchor": "center",
          "xref": "paper",
          "y": 0.375,
          "yanchor": "bottom",
          "yref": "paper"
         }
        ],
        "xaxis": {
         "anchor": "y",
         "domain": [
          0,
          0.45
         ],
         "title": "threshold"
        },
        "xaxis2": {
         "anchor": "y2",
         "domain": [
          0.55,
          1
         ],
         "title": "threshold"
        },
        "xaxis3": {
         "anchor": "y3",
         "domain": [
          0,
          0.45
         ],
         "title": "threshold"
        },
        "xaxis4": {
         "anchor": "y4",
         "domain": [
          0.55,
          1
         ],
         "title": "threshold"
        },
        "yaxis": {
         "anchor": "x",
         "domain": [
          0.625,
          1
         ],
         "title": "% gen"
        },
        "yaxis2": {
         "anchor": "x2",
         "domain": [
          0.625,
          1
         ],
         "title": "% gen"
        },
        "yaxis3": {
         "anchor": "x3",
         "domain": [
          0,
          0.375
         ],
         "title": "% gen"
        },
        "yaxis4": {
         "anchor": "x4",
         "domain": [
          0,
          0.375
         ],
         "title": "% gen"
        }
       }
      },
      "text/html": [
       "<div id=\"c8c208db-9480-49e2-a465-f443d039b7b6\" style=\"height: 525px; width: 100%;\" class=\"plotly-graph-div\"></div><script type=\"text/javascript\">require([\"plotly\"], function(Plotly) { window.PLOTLYENV=window.PLOTLYENV || {};window.PLOTLYENV.BASE_URL=\"https://plot.ly\";Plotly.newPlot(\"c8c208db-9480-49e2-a465-f443d039b7b6\", [{\"marker\": {\"color\": \"red\"}, \"mode\": \"lines+markers\", \"name\": \"Indica\", \"x\": [1, 1.2, 1.4, 1.7, 2, 3, 4, 5], \"y\": [14.877313595804624, 6.63885029099694, 3.180423296895434, 2.2776823284261005, 1.9815769085971957, 1.4848321040302193, 1.2374737398690638, 1.0514517623618016], \"type\": \"scatter\", \"uid\": \"84517966-22b8-42ab-9312-7dff24eba596\", \"xaxis\": \"x\", \"yaxis\": \"y\"}, {\"marker\": {\"color\": \"blue\"}, \"mode\": \"lines+markers\", \"name\": \"Japonica\", \"x\": [1, 1.2, 1.4, 1.7, 2, 3, 4, 5], \"y\": [72.30616075967781, 64.4893772230609, 62.020385866051704, 60.22521583843398, 59.03085261958446, 56.332493210374956, 54.581146555933074, 53.42337795695358], \"type\": \"scatter\", \"uid\": \"477401ea-3863-4ae9-a3be-d9928cc66c12\", \"xaxis\": \"x\", \"yaxis\": \"y\"}, {\"marker\": {\"color\": \"yellow\"}, \"mode\": \"lines+markers\", \"name\": \"cAus\", \"x\": [1, 1.2, 1.4, 1.7, 2, 3, 4, 5], \"y\": [11.461814113896391, 4.5924013055802515, 2.2469182264397203, 1.2174672818799757, 0.8180294152597721, 0.5947623340805175, 0.4933313551364099, 0.4394953506650325], \"type\": \"scatter\", \"uid\": \"3d8f2189-ca52-448c-a133-02ffa178c657\", \"xaxis\": \"x\", \"yaxis\": \"y\"}, {\"marker\": {\"color\": \"purple\"}, \"mode\": \"lines+markers\", \"name\": \"Indica-Japonica\", \"x\": [1, 1.2, 1.4, 1.7, 2, 3, 4, 5], \"y\": [0.010539716311359266, 9.278559057027477, 12.50412492019066, 13.455365592270072, 13.674564145636733, 13.891023840458748, 13.936128852115145, 13.82459704006554], \"type\": \"scatter\", \"uid\": \"a954254e-58a0-4bae-a139-7a67a85aae9c\", \"xaxis\": \"x\", \"yaxis\": \"y\"}, {\"marker\": {\"color\": \"green\"}, \"mode\": \"lines+markers\", \"name\": \"Japonica-cAus\", \"x\": [1, 1.2, 1.4, 1.7, 2, 3, 4, 5], \"y\": [0.020862989864664037, 5.646108381971965, 6.858261479393273, 7.734528591307209, 8.018164471153407, 8.935017645831401, 9.396336274998264, 9.474794280145025], \"type\": \"scatter\", \"uid\": \"3b11688e-cfc2-4346-8809-d3d84e407e96\", \"xaxis\": \"x\", \"yaxis\": \"y\"}, {\"marker\": {\"color\": \"orange\"}, \"mode\": \"lines+markers\", \"name\": \"Indica-cAus\", \"x\": [1, 1.2, 1.4, 1.7, 2, 3, 4, 5], \"y\": [0.15677158906052546, 2.9682034242956528, 1.705315606850186, 1.1974284279434733, 0.9258178489354371, 0.9059246965193236, 0.7919847840502527, 0.7655727630806239], \"type\": \"scatter\", \"uid\": \"d6537f89-39e4-4b6f-becf-8bb094522372\", \"xaxis\": \"x\", \"yaxis\": \"y\"}, {\"marker\": {\"color\": \"silver\"}, \"mode\": \"lines+markers\", \"name\": \"Indica-Japonica-cAus\", \"x\": [1, 1.2, 1.4, 1.7, 2, 3, 4, 5], \"y\": [0.16856063132933535, 5.388508397726487, 10.486594947196544, 12.894335179446113, 14.553012982992149, 16.857962333886434, 18.564247579286, 20.022737529459068], \"type\": \"scatter\", \"uid\": \"3f1a4d21-51b8-4ae2-b8e3-001d3173b6e1\", \"xaxis\": \"x\", \"yaxis\": \"y\"}, {\"marker\": {\"color\": \"red\"}, \"mode\": \"lines+markers\", \"name\": \"Indica\", \"x\": [1, 1.2, 1.4, 1.7, 2, 3, 4, 5], \"y\": [15.067473900661573, 7.9496418607671, 5.889124220129747, 4.902730770951212, 4.244276913311274, 3.069065117152555, 2.4380212955026064, 2.038307669024228], \"type\": \"scatter\", \"uid\": \"0d67172c-3282-4575-9e3f-c1d5b1c776e3\", \"xaxis\": \"x2\", \"yaxis\": \"y2\"}, {\"marker\": {\"color\": \"blue\"}, \"mode\": \"lines+markers\", \"name\": \"Japonica\", \"x\": [1, 1.2, 1.4, 1.7, 2, 3, 4, 5], \"y\": [8.314710948670657, 3.5284956530770932, 2.5188215688542006, 2.125150834359077, 1.87997454810725, 1.4090551175728292, 1.0818593988695286, 0.9457535062877775], \"type\": \"scatter\", \"uid\": \"a2bee723-4868-4266-8527-0fc404349813\", \"xaxis\": \"x2\", \"yaxis\": \"y2\"}, {\"marker\": {\"color\": \"yellow\"}, \"mode\": \"lines+markers\", \"name\": \"cAus\", \"x\": [1, 1.2, 1.4, 1.7, 2, 3, 4, 5], \"y\": [75.76137913318409, 65.60054558499725, 61.41935445679378, 58.902280559131526, 57.5418628705538, 55.10551479491825, 53.70917013515352, 52.49868234861023], \"type\": \"scatter\", \"uid\": \"a8d440c4-6873-4ead-aded-0d719fa367d2\", \"xaxis\": \"x2\", \"yaxis\": \"y2\"}, {\"marker\": {\"color\": \"purple\"}, \"mode\": \"lines+markers\", \"name\": \"Indica-Japonica\", \"x\": [1, 1.2, 1.4, 1.7, 2, 3, 4, 5], \"y\": [0.010252733047299008, 2.1159986800981447, 1.9188199045595518, 1.8287619900806984, 1.7442421306936369, 1.5250133595709097, 1.2453332473363468, 1.1228403871789263], \"type\": \"scatter\", \"uid\": \"1d318497-e9d5-4199-9033-5fc25ddc278e\", \"xaxis\": \"x2\", \"yaxis\": \"y2\"}, {\"marker\": {\"color\": \"green\"}, \"mode\": \"lines+markers\", \"name\": \"Japonica-cAus\", \"x\": [1, 1.2, 1.4, 1.7, 2, 3, 4, 5], \"y\": [0.02086270933784004, 4.697034776502483, 5.116293287961755, 5.63915820820251, 5.733649010138882, 6.130386456271138, 6.291369207440129, 6.110326005088549], \"type\": \"scatter\", \"uid\": \"d9122c2a-4e57-4f9b-a9ed-8f3c4cda89fa\", \"xaxis\": \"x2\", \"yaxis\": \"y2\"}, {\"marker\": {\"color\": \"orange\"}, \"mode\": \"lines+markers\", \"name\": \"Indica-cAus\", \"x\": [1, 1.2, 1.4, 1.7, 2, 3, 4, 5], \"y\": [0.16041303872228185, 10.498804141469725, 13.382948414788272, 15.02661327830696, 15.956471558191614, 18.41861463378304, 19.65767642410989, 20.753616073120252], \"type\": \"scatter\", \"uid\": \"2ff02910-7e59-487c-a77a-7bd58edbae02\", \"xaxis\": \"x2\", \"yaxis\": \"y2\"}, {\"marker\": {\"color\": \"silver\"}, \"mode\": \"lines+markers\", \"name\": \"Indica-Japonica-cAus\", \"x\": [1, 1.2, 1.4, 1.7, 2, 3, 4, 5], \"y\": [0.16855836483834488, 5.113121864233724, 9.258285202260591, 11.078965592910606, 12.40316922209462, 13.845996782523606, 15.084825501260164, 16.034116115959357], \"type\": \"scatter\", \"uid\": \"8ed8833d-c142-45ac-9b2c-6ce9d5f6e9b9\", \"xaxis\": \"x2\", \"yaxis\": \"y2\"}, {\"marker\": {\"color\": \"red\"}, \"mode\": \"lines+markers\", \"name\": \"Indica\", \"x\": [1, 1.2, 1.4, 1.7, 2, 3, 4, 5], \"y\": [69.91959669098408, 59.22634158512541, 54.708570911712464, 51.97791504198465, 50.045895806622475, 45.880458106595725, 43.43118108074481, 41.54728626123284], \"type\": \"scatter\", \"uid\": \"abefc153-f680-465e-a23d-904d7b5c828f\", \"xaxis\": \"x3\", \"yaxis\": \"y3\"}, {\"marker\": {\"color\": \"blue\"}, \"mode\": \"lines+markers\", \"name\": \"Japonica\", \"x\": [1, 1.2, 1.4, 1.7, 2, 3, 4, 5], \"y\": [10.273223283025024, 3.758265347513852, 2.301226481751982, 1.92274522403015, 1.7084320302008589, 1.3189008444160562, 1.0065141509593707, 0.8968760479138402], \"type\": \"scatter\", \"uid\": \"e80d017e-bece-4fed-9e30-294200d964fa\", \"xaxis\": \"x3\", \"yaxis\": \"y3\"}, {\"marker\": {\"color\": \"yellow\"}, \"mode\": \"lines+markers\", \"name\": \"cAus\", \"x\": [1, 1.2, 1.4, 1.7, 2, 3, 4, 5], \"y\": [18.767392968519346, 9.037855143339636, 5.063130847253572, 3.608269878359188, 2.987231263549578, 2.433556794729007, 2.156021520717192, 1.9876088765714808], \"type\": \"scatter\", \"uid\": \"aa15a729-c057-472c-b92d-9a4aa1260ef7\", \"xaxis\": \"x3\", \"yaxis\": \"y3\"}, {\"marker\": {\"color\": \"purple\"}, \"mode\": \"lines+markers\", \"name\": \"Indica-Japonica\", \"x\": [1, 1.2, 1.4, 1.7, 2, 3, 4, 5], \"y\": [0.010539762589247777, 8.421234232590692, 10.80505609927459, 11.3703629128976, 11.526856730452367, 11.638713709237974, 11.449200549827859, 11.376779659646347], \"type\": \"scatter\", \"uid\": \"c1a08c2a-6d9c-4be6-a193-9cdd3c35eb5d\", \"xaxis\": \"x3\", \"yaxis\": \"y3\"}, {\"marker\": {\"color\": \"green\"}, \"mode\": \"lines+markers\", \"name\": \"Japonica-cAus\", \"x\": [1, 1.2, 1.4, 1.7, 2, 3, 4, 5], \"y\": [0.02067805288132526, 1.9091782959751435, 1.023277706566315, 0.9795465281048716, 0.8877001871277974, 0.8490173283214788, 0.8900436767894983, 0.6783963252978286], \"type\": \"scatter\", \"uid\": \"0401cece-cf5b-4c62-8ac0-66fd100510e1\", \"xaxis\": \"x3\", \"yaxis\": \"y3\"}, {\"marker\": {\"color\": \"orange\"}, \"mode\": \"lines+markers\", \"name\": \"Indica-cAus\", \"x\": [1, 1.2, 1.4, 1.7, 2, 3, 4, 5], \"y\": [0.16041590004114473, 11.65572605967093, 15.505759197152804, 17.390550199334072, 18.58585847116493, 21.411490709615734, 22.880863879109718, 24.004508449005147], \"type\": \"scatter\", \"uid\": \"9165e4c6-1273-4f6c-be1b-e74e58142665\", \"xaxis\": \"x3\", \"yaxis\": \"y3\"}, {\"marker\": {\"color\": \"silver\"}, \"mode\": \"lines+markers\", \"name\": \"Indica-Japonica-cAus\", \"x\": [1, 1.2, 1.4, 1.7, 2, 3, 4, 5], \"y\": [0.16856137144698885, 5.311794494740403, 9.913389171974403, 12.071022189909463, 13.578423944778645, 15.78826994834202, 17.50820803816902, 18.828951261779423], \"type\": \"scatter\", \"uid\": \"f1040b1b-e6ea-46c1-9df6-7a5e584bf0bd\", \"xaxis\": \"x3\", \"yaxis\": \"y3\"}, {\"marker\": {\"color\": \"red\"}, \"mode\": \"lines+markers\", \"name\": \"Indica\", \"x\": [1, 1.2, 1.4, 1.7, 2, 3, 4, 5], \"y\": [20.08890754976042, 12.102929342588524, 8.998024547140737, 7.9199825328449345, 7.456062753110121, 6.5074921498172245, 6.020497758334825, 5.559389832736115], \"type\": \"scatter\", \"uid\": \"1b3b852a-e8ea-46f4-904b-7c4c6028e6e3\", \"xaxis\": \"x4\", \"yaxis\": \"y4\"}, {\"marker\": {\"color\": \"blue\"}, \"mode\": \"lines+markers\", \"name\": \"Japonica\", \"x\": [1, 1.2, 1.4, 1.7, 2, 3, 4, 5], \"y\": [41.786411784456185, 35.195198408272844, 33.29121357121898, 31.927369156858862, 30.996382406667877, 29.09651570956469, 27.89797752819202, 27.022243698988103], \"type\": \"scatter\", \"uid\": \"01d875f7-4813-4417-9b8f-a26d0813ff5e\", \"xaxis\": \"x4\", \"yaxis\": \"y4\"}, {\"marker\": {\"color\": \"yellow\"}, \"mode\": \"lines+markers\", \"name\": \"cAus\", \"x\": [1, 1.2, 1.4, 1.7, 2, 3, 4, 5], \"y\": [25.16192265847056, 17.698781776675556, 14.969864027296664, 13.478341011709846, 12.85630204125407, 12.116782922203956, 11.71076678870976, 11.275558325810216], \"type\": \"scatter\", \"uid\": \"8d441352-0974-467a-9db2-fab33843785b\", \"xaxis\": \"x4\", \"yaxis\": \"y4\"}, {\"marker\": {\"color\": \"purple\"}, \"mode\": \"lines+markers\", \"name\": \"Indica-Japonica\", \"x\": [1, 1.2, 1.4, 1.7, 2, 3, 4, 5], \"y\": [0.010499689520321109, 7.382512769468264, 9.67367399928011, 10.317888933811854, 10.392473278762333, 10.27719969472676, 10.216615868442801, 10.026931994412342], \"type\": \"scatter\", \"uid\": \"694bc0b7-57f0-4d0e-9766-571dceecdb6c\", \"xaxis\": \"x4\", \"yaxis\": \"y4\"}, {\"marker\": {\"color\": \"green\"}, \"mode\": \"lines+markers\", \"name\": \"Japonica-cAus\", \"x\": [1, 1.2, 1.4, 1.7, 2, 3, 4, 5], \"y\": [0.020702493028890386, 4.776168440019021, 5.573923002757288, 6.375612015100755, 6.6676462935142276, 7.363613999063589, 7.724804701414148, 7.751124211967992], \"type\": \"scatter\", \"uid\": \"1da83f88-58f0-4135-8b63-b7484fc91ecd\", \"xaxis\": \"x4\", \"yaxis\": \"y4\"}, {\"marker\": {\"color\": \"orange\"}, \"mode\": \"lines+markers\", \"name\": \"Indica-cAus\", \"x\": [1, 1.2, 1.4, 1.7, 2, 3, 4, 5], \"y\": [0.15806247649624822, 5.266250919310955, 5.3021256203162785, 5.5711508676952235, 5.643960397235823, 6.45212993622514, 6.7557984248512986, 7.182283853434161], \"type\": \"scatter\", \"uid\": \"598b7fc2-c799-4216-b045-4f8f7cd084a4\", \"xaxis\": \"x4\", \"yaxis\": \"y4\"}, {\"marker\": {\"color\": \"silver\"}, \"mode\": \"lines+markers\", \"name\": \"Indica-Japonica-cAus\", \"x\": [1, 1.2, 1.4, 1.7, 2, 3, 4, 5], \"y\": [0.16853358229584586, 4.973082319130699, 9.586299852415564, 11.804710128650033, 13.382100662378376, 15.581176164828465, 17.073540636566474, 18.577571635825784], \"type\": \"scatter\", \"uid\": \"4a01e32f-21df-49ea-9206-f613988fb535\", \"xaxis\": \"x4\", \"yaxis\": \"y4\"}], {\"annotations\": [{\"font\": {\"size\": 16}, \"showarrow\": false, \"text\": \"Japonica\", \"x\": 0.225, \"xanchor\": \"center\", \"xref\": \"paper\", \"y\": 1.0, \"yanchor\": \"bottom\", \"yref\": \"paper\"}, {\"font\": {\"size\": 16}, \"showarrow\": false, \"text\": \"Aus\", \"x\": 0.775, \"xanchor\": \"center\", \"xref\": \"paper\", \"y\": 1.0, \"yanchor\": \"bottom\", \"yref\": \"paper\"}, {\"font\": {\"size\": 16}, \"showarrow\": false, \"text\": \"Indica\", \"x\": 0.225, \"xanchor\": \"center\", \"xref\": \"paper\", \"y\": 0.375, \"yanchor\": \"bottom\", \"yref\": \"paper\"}, {\"font\": {\"size\": 16}, \"showarrow\": false, \"text\": \"cBasmati\", \"x\": 0.775, \"xanchor\": \"center\", \"xref\": \"paper\", \"y\": 0.375, \"yanchor\": \"bottom\", \"yref\": \"paper\"}], \"xaxis\": {\"anchor\": \"y\", \"domain\": [0.0, 0.45], \"title\": \"threshold\"}, \"yaxis\": {\"anchor\": \"x\", \"domain\": [0.625, 1.0], \"title\": \"% gen\"}, \"xaxis2\": {\"anchor\": \"y2\", \"domain\": [0.55, 1.0], \"title\": \"threshold\"}, \"yaxis2\": {\"anchor\": \"x2\", \"domain\": [0.625, 1.0], \"title\": \"% gen\"}, \"xaxis3\": {\"anchor\": \"y3\", \"domain\": [0.0, 0.45], \"title\": \"threshold\"}, \"yaxis3\": {\"anchor\": \"x3\", \"domain\": [0.0, 0.375], \"title\": \"% gen\"}, \"xaxis4\": {\"anchor\": \"y4\", \"domain\": [0.55, 1.0], \"title\": \"threshold\"}, \"yaxis4\": {\"anchor\": \"x4\", \"domain\": [0.0, 0.375], \"title\": \"% gen\"}}, {\"showLink\": true, \"linkText\": \"Export to plot.ly\", \"plotlyServerURL\": \"https://plot.ly\"})});</script><script type=\"text/javascript\">window.addEventListener(\"resize\", function(){window._Plotly.Plots.resize(document.getElementById(\"c8c208db-9480-49e2-a465-f443d039b7b6\"));});</script>"
      ],
      "text/vnd.plotly.v1+html": [
       "<div id=\"c8c208db-9480-49e2-a465-f443d039b7b6\" style=\"height: 525px; width: 100%;\" class=\"plotly-graph-div\"></div><script type=\"text/javascript\">require([\"plotly\"], function(Plotly) { window.PLOTLYENV=window.PLOTLYENV || {};window.PLOTLYENV.BASE_URL=\"https://plot.ly\";Plotly.newPlot(\"c8c208db-9480-49e2-a465-f443d039b7b6\", [{\"marker\": {\"color\": \"red\"}, \"mode\": \"lines+markers\", \"name\": \"Indica\", \"x\": [1, 1.2, 1.4, 1.7, 2, 3, 4, 5], \"y\": [14.877313595804624, 6.63885029099694, 3.180423296895434, 2.2776823284261005, 1.9815769085971957, 1.4848321040302193, 1.2374737398690638, 1.0514517623618016], \"type\": \"scatter\", \"uid\": \"84517966-22b8-42ab-9312-7dff24eba596\", \"xaxis\": \"x\", \"yaxis\": \"y\"}, {\"marker\": {\"color\": \"blue\"}, \"mode\": \"lines+markers\", \"name\": \"Japonica\", \"x\": [1, 1.2, 1.4, 1.7, 2, 3, 4, 5], \"y\": [72.30616075967781, 64.4893772230609, 62.020385866051704, 60.22521583843398, 59.03085261958446, 56.332493210374956, 54.581146555933074, 53.42337795695358], \"type\": \"scatter\", \"uid\": \"477401ea-3863-4ae9-a3be-d9928cc66c12\", \"xaxis\": \"x\", \"yaxis\": \"y\"}, {\"marker\": {\"color\": \"yellow\"}, \"mode\": \"lines+markers\", \"name\": \"cAus\", \"x\": [1, 1.2, 1.4, 1.7, 2, 3, 4, 5], \"y\": [11.461814113896391, 4.5924013055802515, 2.2469182264397203, 1.2174672818799757, 0.8180294152597721, 0.5947623340805175, 0.4933313551364099, 0.4394953506650325], \"type\": \"scatter\", \"uid\": \"3d8f2189-ca52-448c-a133-02ffa178c657\", \"xaxis\": \"x\", \"yaxis\": \"y\"}, {\"marker\": {\"color\": \"purple\"}, \"mode\": \"lines+markers\", \"name\": \"Indica-Japonica\", \"x\": [1, 1.2, 1.4, 1.7, 2, 3, 4, 5], \"y\": [0.010539716311359266, 9.278559057027477, 12.50412492019066, 13.455365592270072, 13.674564145636733, 13.891023840458748, 13.936128852115145, 13.82459704006554], \"type\": \"scatter\", \"uid\": \"a954254e-58a0-4bae-a139-7a67a85aae9c\", \"xaxis\": \"x\", \"yaxis\": \"y\"}, {\"marker\": {\"color\": \"green\"}, \"mode\": \"lines+markers\", \"name\": \"Japonica-cAus\", \"x\": [1, 1.2, 1.4, 1.7, 2, 3, 4, 5], \"y\": [0.020862989864664037, 5.646108381971965, 6.858261479393273, 7.734528591307209, 8.018164471153407, 8.935017645831401, 9.396336274998264, 9.474794280145025], \"type\": \"scatter\", \"uid\": \"3b11688e-cfc2-4346-8809-d3d84e407e96\", \"xaxis\": \"x\", \"yaxis\": \"y\"}, {\"marker\": {\"color\": \"orange\"}, \"mode\": \"lines+markers\", \"name\": \"Indica-cAus\", \"x\": [1, 1.2, 1.4, 1.7, 2, 3, 4, 5], \"y\": [0.15677158906052546, 2.9682034242956528, 1.705315606850186, 1.1974284279434733, 0.9258178489354371, 0.9059246965193236, 0.7919847840502527, 0.7655727630806239], \"type\": \"scatter\", \"uid\": \"d6537f89-39e4-4b6f-becf-8bb094522372\", \"xaxis\": \"x\", \"yaxis\": \"y\"}, {\"marker\": {\"color\": \"silver\"}, \"mode\": \"lines+markers\", \"name\": \"Indica-Japonica-cAus\", \"x\": [1, 1.2, 1.4, 1.7, 2, 3, 4, 5], \"y\": [0.16856063132933535, 5.388508397726487, 10.486594947196544, 12.894335179446113, 14.553012982992149, 16.857962333886434, 18.564247579286, 20.022737529459068], \"type\": \"scatter\", \"uid\": \"3f1a4d21-51b8-4ae2-b8e3-001d3173b6e1\", \"xaxis\": \"x\", \"yaxis\": \"y\"}, {\"marker\": {\"color\": \"red\"}, \"mode\": \"lines+markers\", \"name\": \"Indica\", \"x\": [1, 1.2, 1.4, 1.7, 2, 3, 4, 5], \"y\": [15.067473900661573, 7.9496418607671, 5.889124220129747, 4.902730770951212, 4.244276913311274, 3.069065117152555, 2.4380212955026064, 2.038307669024228], \"type\": \"scatter\", \"uid\": \"0d67172c-3282-4575-9e3f-c1d5b1c776e3\", \"xaxis\": \"x2\", \"yaxis\": \"y2\"}, {\"marker\": {\"color\": \"blue\"}, \"mode\": \"lines+markers\", \"name\": \"Japonica\", \"x\": [1, 1.2, 1.4, 1.7, 2, 3, 4, 5], \"y\": [8.314710948670657, 3.5284956530770932, 2.5188215688542006, 2.125150834359077, 1.87997454810725, 1.4090551175728292, 1.0818593988695286, 0.9457535062877775], \"type\": \"scatter\", \"uid\": \"a2bee723-4868-4266-8527-0fc404349813\", \"xaxis\": \"x2\", \"yaxis\": \"y2\"}, {\"marker\": {\"color\": \"yellow\"}, \"mode\": \"lines+markers\", \"name\": \"cAus\", \"x\": [1, 1.2, 1.4, 1.7, 2, 3, 4, 5], \"y\": [75.76137913318409, 65.60054558499725, 61.41935445679378, 58.902280559131526, 57.5418628705538, 55.10551479491825, 53.70917013515352, 52.49868234861023], \"type\": \"scatter\", \"uid\": \"a8d440c4-6873-4ead-aded-0d719fa367d2\", \"xaxis\": \"x2\", \"yaxis\": \"y2\"}, {\"marker\": {\"color\": \"purple\"}, \"mode\": \"lines+markers\", \"name\": \"Indica-Japonica\", \"x\": [1, 1.2, 1.4, 1.7, 2, 3, 4, 5], \"y\": [0.010252733047299008, 2.1159986800981447, 1.9188199045595518, 1.8287619900806984, 1.7442421306936369, 1.5250133595709097, 1.2453332473363468, 1.1228403871789263], \"type\": \"scatter\", \"uid\": \"1d318497-e9d5-4199-9033-5fc25ddc278e\", \"xaxis\": \"x2\", \"yaxis\": \"y2\"}, {\"marker\": {\"color\": \"green\"}, \"mode\": \"lines+markers\", \"name\": \"Japonica-cAus\", \"x\": [1, 1.2, 1.4, 1.7, 2, 3, 4, 5], \"y\": [0.02086270933784004, 4.697034776502483, 5.116293287961755, 5.63915820820251, 5.733649010138882, 6.130386456271138, 6.291369207440129, 6.110326005088549], \"type\": \"scatter\", \"uid\": \"d9122c2a-4e57-4f9b-a9ed-8f3c4cda89fa\", \"xaxis\": \"x2\", \"yaxis\": \"y2\"}, {\"marker\": {\"color\": \"orange\"}, \"mode\": \"lines+markers\", \"name\": \"Indica-cAus\", \"x\": [1, 1.2, 1.4, 1.7, 2, 3, 4, 5], \"y\": [0.16041303872228185, 10.498804141469725, 13.382948414788272, 15.02661327830696, 15.956471558191614, 18.41861463378304, 19.65767642410989, 20.753616073120252], \"type\": \"scatter\", \"uid\": \"2ff02910-7e59-487c-a77a-7bd58edbae02\", \"xaxis\": \"x2\", \"yaxis\": \"y2\"}, {\"marker\": {\"color\": \"silver\"}, \"mode\": \"lines+markers\", \"name\": \"Indica-Japonica-cAus\", \"x\": [1, 1.2, 1.4, 1.7, 2, 3, 4, 5], \"y\": [0.16855836483834488, 5.113121864233724, 9.258285202260591, 11.078965592910606, 12.40316922209462, 13.845996782523606, 15.084825501260164, 16.034116115959357], \"type\": \"scatter\", \"uid\": \"8ed8833d-c142-45ac-9b2c-6ce9d5f6e9b9\", \"xaxis\": \"x2\", \"yaxis\": \"y2\"}, {\"marker\": {\"color\": \"red\"}, \"mode\": \"lines+markers\", \"name\": \"Indica\", \"x\": [1, 1.2, 1.4, 1.7, 2, 3, 4, 5], \"y\": [69.91959669098408, 59.22634158512541, 54.708570911712464, 51.97791504198465, 50.045895806622475, 45.880458106595725, 43.43118108074481, 41.54728626123284], \"type\": \"scatter\", \"uid\": \"abefc153-f680-465e-a23d-904d7b5c828f\", \"xaxis\": \"x3\", \"yaxis\": \"y3\"}, {\"marker\": {\"color\": \"blue\"}, \"mode\": \"lines+markers\", \"name\": \"Japonica\", \"x\": [1, 1.2, 1.4, 1.7, 2, 3, 4, 5], \"y\": [10.273223283025024, 3.758265347513852, 2.301226481751982, 1.92274522403015, 1.7084320302008589, 1.3189008444160562, 1.0065141509593707, 0.8968760479138402], \"type\": \"scatter\", \"uid\": \"e80d017e-bece-4fed-9e30-294200d964fa\", \"xaxis\": \"x3\", \"yaxis\": \"y3\"}, {\"marker\": {\"color\": \"yellow\"}, \"mode\": \"lines+markers\", \"name\": \"cAus\", \"x\": [1, 1.2, 1.4, 1.7, 2, 3, 4, 5], \"y\": [18.767392968519346, 9.037855143339636, 5.063130847253572, 3.608269878359188, 2.987231263549578, 2.433556794729007, 2.156021520717192, 1.9876088765714808], \"type\": \"scatter\", \"uid\": \"aa15a729-c057-472c-b92d-9a4aa1260ef7\", \"xaxis\": \"x3\", \"yaxis\": \"y3\"}, {\"marker\": {\"color\": \"purple\"}, \"mode\": \"lines+markers\", \"name\": \"Indica-Japonica\", \"x\": [1, 1.2, 1.4, 1.7, 2, 3, 4, 5], \"y\": [0.010539762589247777, 8.421234232590692, 10.80505609927459, 11.3703629128976, 11.526856730452367, 11.638713709237974, 11.449200549827859, 11.376779659646347], \"type\": \"scatter\", \"uid\": \"c1a08c2a-6d9c-4be6-a193-9cdd3c35eb5d\", \"xaxis\": \"x3\", \"yaxis\": \"y3\"}, {\"marker\": {\"color\": \"green\"}, \"mode\": \"lines+markers\", \"name\": \"Japonica-cAus\", \"x\": [1, 1.2, 1.4, 1.7, 2, 3, 4, 5], \"y\": [0.02067805288132526, 1.9091782959751435, 1.023277706566315, 0.9795465281048716, 0.8877001871277974, 0.8490173283214788, 0.8900436767894983, 0.6783963252978286], \"type\": \"scatter\", \"uid\": \"0401cece-cf5b-4c62-8ac0-66fd100510e1\", \"xaxis\": \"x3\", \"yaxis\": \"y3\"}, {\"marker\": {\"color\": \"orange\"}, \"mode\": \"lines+markers\", \"name\": \"Indica-cAus\", \"x\": [1, 1.2, 1.4, 1.7, 2, 3, 4, 5], \"y\": [0.16041590004114473, 11.65572605967093, 15.505759197152804, 17.390550199334072, 18.58585847116493, 21.411490709615734, 22.880863879109718, 24.004508449005147], \"type\": \"scatter\", \"uid\": \"9165e4c6-1273-4f6c-be1b-e74e58142665\", \"xaxis\": \"x3\", \"yaxis\": \"y3\"}, {\"marker\": {\"color\": \"silver\"}, \"mode\": \"lines+markers\", \"name\": \"Indica-Japonica-cAus\", \"x\": [1, 1.2, 1.4, 1.7, 2, 3, 4, 5], \"y\": [0.16856137144698885, 5.311794494740403, 9.913389171974403, 12.071022189909463, 13.578423944778645, 15.78826994834202, 17.50820803816902, 18.828951261779423], \"type\": \"scatter\", \"uid\": \"f1040b1b-e6ea-46c1-9df6-7a5e584bf0bd\", \"xaxis\": \"x3\", \"yaxis\": \"y3\"}, {\"marker\": {\"color\": \"red\"}, \"mode\": \"lines+markers\", \"name\": \"Indica\", \"x\": [1, 1.2, 1.4, 1.7, 2, 3, 4, 5], \"y\": [20.08890754976042, 12.102929342588524, 8.998024547140737, 7.9199825328449345, 7.456062753110121, 6.5074921498172245, 6.020497758334825, 5.559389832736115], \"type\": \"scatter\", \"uid\": \"1b3b852a-e8ea-46f4-904b-7c4c6028e6e3\", \"xaxis\": \"x4\", \"yaxis\": \"y4\"}, {\"marker\": {\"color\": \"blue\"}, \"mode\": \"lines+markers\", \"name\": \"Japonica\", \"x\": [1, 1.2, 1.4, 1.7, 2, 3, 4, 5], \"y\": [41.786411784456185, 35.195198408272844, 33.29121357121898, 31.927369156858862, 30.996382406667877, 29.09651570956469, 27.89797752819202, 27.022243698988103], \"type\": \"scatter\", \"uid\": \"01d875f7-4813-4417-9b8f-a26d0813ff5e\", \"xaxis\": \"x4\", \"yaxis\": \"y4\"}, {\"marker\": {\"color\": \"yellow\"}, \"mode\": \"lines+markers\", \"name\": \"cAus\", \"x\": [1, 1.2, 1.4, 1.7, 2, 3, 4, 5], \"y\": [25.16192265847056, 17.698781776675556, 14.969864027296664, 13.478341011709846, 12.85630204125407, 12.116782922203956, 11.71076678870976, 11.275558325810216], \"type\": \"scatter\", \"uid\": \"8d441352-0974-467a-9db2-fab33843785b\", \"xaxis\": \"x4\", \"yaxis\": \"y4\"}, {\"marker\": {\"color\": \"purple\"}, \"mode\": \"lines+markers\", \"name\": \"Indica-Japonica\", \"x\": [1, 1.2, 1.4, 1.7, 2, 3, 4, 5], \"y\": [0.010499689520321109, 7.382512769468264, 9.67367399928011, 10.317888933811854, 10.392473278762333, 10.27719969472676, 10.216615868442801, 10.026931994412342], \"type\": \"scatter\", \"uid\": \"694bc0b7-57f0-4d0e-9766-571dceecdb6c\", \"xaxis\": \"x4\", \"yaxis\": \"y4\"}, {\"marker\": {\"color\": \"green\"}, \"mode\": \"lines+markers\", \"name\": \"Japonica-cAus\", \"x\": [1, 1.2, 1.4, 1.7, 2, 3, 4, 5], \"y\": [0.020702493028890386, 4.776168440019021, 5.573923002757288, 6.375612015100755, 6.6676462935142276, 7.363613999063589, 7.724804701414148, 7.751124211967992], \"type\": \"scatter\", \"uid\": \"1da83f88-58f0-4135-8b63-b7484fc91ecd\", \"xaxis\": \"x4\", \"yaxis\": \"y4\"}, {\"marker\": {\"color\": \"orange\"}, \"mode\": \"lines+markers\", \"name\": \"Indica-cAus\", \"x\": [1, 1.2, 1.4, 1.7, 2, 3, 4, 5], \"y\": [0.15806247649624822, 5.266250919310955, 5.3021256203162785, 5.5711508676952235, 5.643960397235823, 6.45212993622514, 6.7557984248512986, 7.182283853434161], \"type\": \"scatter\", \"uid\": \"598b7fc2-c799-4216-b045-4f8f7cd084a4\", \"xaxis\": \"x4\", \"yaxis\": \"y4\"}, {\"marker\": {\"color\": \"silver\"}, \"mode\": \"lines+markers\", \"name\": \"Indica-Japonica-cAus\", \"x\": [1, 1.2, 1.4, 1.7, 2, 3, 4, 5], \"y\": [0.16853358229584586, 4.973082319130699, 9.586299852415564, 11.804710128650033, 13.382100662378376, 15.581176164828465, 17.073540636566474, 18.577571635825784], \"type\": \"scatter\", \"uid\": \"4a01e32f-21df-49ea-9206-f613988fb535\", \"xaxis\": \"x4\", \"yaxis\": \"y4\"}], {\"annotations\": [{\"font\": {\"size\": 16}, \"showarrow\": false, \"text\": \"Japonica\", \"x\": 0.225, \"xanchor\": \"center\", \"xref\": \"paper\", \"y\": 1.0, \"yanchor\": \"bottom\", \"yref\": \"paper\"}, {\"font\": {\"size\": 16}, \"showarrow\": false, \"text\": \"Aus\", \"x\": 0.775, \"xanchor\": \"center\", \"xref\": \"paper\", \"y\": 1.0, \"yanchor\": \"bottom\", \"yref\": \"paper\"}, {\"font\": {\"size\": 16}, \"showarrow\": false, \"text\": \"Indica\", \"x\": 0.225, \"xanchor\": \"center\", \"xref\": \"paper\", \"y\": 0.375, \"yanchor\": \"bottom\", \"yref\": \"paper\"}, {\"font\": {\"size\": 16}, \"showarrow\": false, \"text\": \"cBasmati\", \"x\": 0.775, \"xanchor\": \"center\", \"xref\": \"paper\", \"y\": 0.375, \"yanchor\": \"bottom\", \"yref\": \"paper\"}], \"xaxis\": {\"anchor\": \"y\", \"domain\": [0.0, 0.45], \"title\": \"threshold\"}, \"yaxis\": {\"anchor\": \"x\", \"domain\": [0.625, 1.0], \"title\": \"% gen\"}, \"xaxis2\": {\"anchor\": \"y2\", \"domain\": [0.55, 1.0], \"title\": \"threshold\"}, \"yaxis2\": {\"anchor\": \"x2\", \"domain\": [0.625, 1.0], \"title\": \"% gen\"}, \"xaxis3\": {\"anchor\": \"y3\", \"domain\": [0.0, 0.45], \"title\": \"threshold\"}, \"yaxis3\": {\"anchor\": \"x3\", \"domain\": [0.0, 0.375], \"title\": \"% gen\"}, \"xaxis4\": {\"anchor\": \"y4\", \"domain\": [0.55, 1.0], \"title\": \"threshold\"}, \"yaxis4\": {\"anchor\": \"x4\", \"domain\": [0.0, 0.375], \"title\": \"% gen\"}}, {\"showLink\": true, \"linkText\": \"Export to plot.ly\", \"plotlyServerURL\": \"https://plot.ly\"})});</script><script type=\"text/javascript\">window.addEventListener(\"resize\", function(){window._Plotly.Plots.resize(document.getElementById(\"c8c208db-9480-49e2-a465-f443d039b7b6\"));});</script>"
      ]
     },
     "metadata": {},
     "output_type": "display_data"
    }
   ],
   "source": [
    "from plotly import tools\n",
    "\n",
    "Ncols= 2\n",
    "titles= groups\n",
    "yaxis= '% gen'\n",
    "xaxis= 'threshold'\n",
    "\n",
    "print(titles)\n",
    "\n",
    "Color_select= ['red','blue','yellow','purple','green','orange','silver']\n",
    "Select_indx= [list(Colz).index(x) for x in Color_select]\n",
    "\n",
    "Color_class= {\n",
    "    'red': 'Indica',\n",
    "    'yellow': 'cAus',\n",
    "    'blue': 'Japonica',\n",
    "    'purple': 'Indica-Japonica',\n",
    "    'green': 'Japonica-cAus',\n",
    "    'orange': 'Indica-cAus',\n",
    "    'silver': 'Indica-Japonica-cAus'\n",
    "}\n",
    "\n",
    "\n",
    "fig_subplots = tools.make_subplots(rows= int(len(titles) / float(Ncols)) + (len(titles) % Ncols > 0), cols=Ncols,\n",
    "                         subplot_titles=tuple(titles))\n",
    "\n",
    "#####\n",
    "for gp in range(len(titles)):\n",
    "    \n",
    "    Gp= titles[gp]\n",
    "    pos1= int(float(gp) / Ncols) + 1\n",
    "    pos2= gp - (pos1-1)*Ncols + 1\n",
    "\n",
    "    title= titles[gp]\n",
    "\n",
    "    for i in range(len(Color_select)):\n",
    "        trace1= go.Scatter(\n",
    "                x = th_stock,\n",
    "                y = [Gpstats[Gp][z][Select_indx[i]] for z in th_stock],\n",
    "                mode= 'lines+markers',\n",
    "                name= Color_class[Color_select[i]],\n",
    "                marker= dict(\n",
    "                    color= Color_select[i]\n",
    "                )\n",
    "            )\n",
    "\n",
    "        fig_subplots.append_trace(trace1, pos1, pos2)\n",
    "\n",
    "    if yaxis:\n",
    "        fig_subplots['layout']['yaxis' + str(gp + 1)].update(title=yaxis)\n",
    "    if xaxis:\n",
    "        fig_subplots['layout']['xaxis' + str(gp + 1)].update(title=xaxis)\n",
    "\n",
    "\n",
    "layout = go.Layout(\n",
    "    title= title\n",
    ")\n",
    "\n",
    "fig= go.Figure(data=fig_subplots, layout=layout)\n",
    "iplot(fig_subplots)\n",
    "\n"
   ]
  },
  {
   "cell_type": "code",
   "execution_count": null,
   "metadata": {},
   "outputs": [],
   "source": []
  }
 ],
 "metadata": {
  "kernelspec": {
   "display_name": "Python 3",
   "language": "python",
   "name": "python3"
  },
  "language_info": {
   "codemirror_mode": {
    "name": "ipython",
    "version": 3
   },
   "file_extension": ".py",
   "mimetype": "text/x-python",
   "name": "python",
   "nbconvert_exporter": "python",
   "pygments_lexer": "ipython3",
   "version": "3.6.3"
  }
 },
 "nbformat": 4,
 "nbformat_minor": 2
}
